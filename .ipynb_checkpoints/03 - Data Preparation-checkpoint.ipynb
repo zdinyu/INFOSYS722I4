{
 "cells": [
  {
   "cell_type": "code",
   "execution_count": 1,
   "id": "6c194299",
   "metadata": {},
   "outputs": [
    {
     "name": "stderr",
     "output_type": "stream",
     "text": [
      "WARNING: An illegal reflective access operation has occurred\n",
      "WARNING: Illegal reflective access by org.apache.spark.unsafe.Platform (file:/home/ubuntu/spark-3.2.1-bin-hadoop2.7/jars/spark-unsafe_2.12-3.2.1.jar) to constructor java.nio.DirectByteBuffer(long,int)\n",
      "WARNING: Please consider reporting this to the maintainers of org.apache.spark.unsafe.Platform\n",
      "WARNING: Use --illegal-access=warn to enable warnings of further illegal reflective access operations\n",
      "WARNING: All illegal access operations will be denied in a future release\n",
      "Using Spark's default log4j profile: org/apache/spark/log4j-defaults.properties\n",
      "Setting default log level to \"WARN\".\n",
      "To adjust logging level use sc.setLogLevel(newLevel). For SparkR, use setLogLevel(newLevel).\n",
      "23/10/05 09:55:59 WARN NativeCodeLoader: Unable to load native-hadoop library for your platform... using builtin-java classes where applicable\n"
     ]
    }
   ],
   "source": [
    "import findspark\n",
    "findspark.init('/home/ubuntu/spark-3.2.1-bin-hadoop2.7')\n",
    "import pyspark\n",
    "from pyspark.sql import SparkSession\n",
    "spark = SparkSession.builder.appName('missing').getOrCreate()"
   ]
  },
  {
   "cell_type": "code",
   "execution_count": 2,
   "id": "8edb3b91",
   "metadata": {},
   "outputs": [
    {
     "name": "stderr",
     "output_type": "stream",
     "text": [
      "                                                                                \r"
     ]
    }
   ],
   "source": [
    "wash_df = spark.read.csv(\"WASH.csv\",header=True)\n",
    "death_df = spark.read.csv(\"unsafewaterdeathrate.csv\",header=True)\n",
    "gdp_df = spark.read.csv(\"gdp-per-capita-worldbank.csv\",header=True)"
   ]
  },
  {
   "cell_type": "code",
   "execution_count": 3,
   "id": "93ca067d",
   "metadata": {},
   "outputs": [
    {
     "name": "stdout",
     "output_type": "stream",
     "text": [
      "root\n",
      " |-- Entity: string (nullable = true)\n",
      " |-- Code: string (nullable = true)\n",
      " |-- Year: integer (nullable = true)\n",
      " |-- Share of total deaths that are from all causes attributed to unsafe water source, in both sexes aged age-standardized: float (nullable = true)\n",
      "\n",
      "root\n",
      " |-- Entity: string (nullable = true)\n",
      " |-- Code: string (nullable = true)\n",
      " |-- Year: integer (nullable = true)\n",
      " |-- GDP per capita, PPP (constant 2017 international $): float (nullable = true)\n",
      "\n",
      "root\n",
      " |-- Type: string (nullable = true)\n",
      " |-- Region: string (nullable = true)\n",
      " |-- Residence Type: string (nullable = true)\n",
      " |-- Service Type: string (nullable = true)\n",
      " |-- Year: integer (nullable = true)\n",
      " |-- Coverage: float (nullable = true)\n",
      " |-- Population: float (nullable = true)\n",
      " |-- Facility type: string (nullable = true)\n",
      "\n"
     ]
    }
   ],
   "source": [
    "from pyspark.sql.types import (StructField,StringType,IntegerType,FloatType,StructType)\n",
    "data_schema = [StructField('Entity',StringType(),True),\n",
    "              StructField('Code',StringType(),True),\n",
    "              StructField('Year',IntegerType(),True),\n",
    "              StructField('Share of total deaths that are from all causes attributed to unsafe water source, in both sexes aged age-standardized',FloatType(),True)]\n",
    "final_struct = StructType(fields=data_schema)\n",
    "death_df = spark.read.csv(\"unsafewaterdeathrate.csv\",schema=final_struct,header=True)\n",
    "death_df.printSchema()\n",
    "\n",
    "data_schema = [StructField('Entity',StringType(),True),\n",
    "              StructField('Code',StringType(),True),\n",
    "              StructField('Year',IntegerType(),True),\n",
    "              StructField('GDP per capita, PPP (constant 2017 international $)',FloatType(),True)]\n",
    "final_struct = StructType(fields=data_schema)\n",
    "gdp_df = spark.read.csv(\"gdp-per-capita-worldbank.csv\",schema=final_struct,header=True)\n",
    "gdp_df.printSchema()\n",
    "\n",
    "data_schema = [StructField('Type',StringType(),True),\n",
    "              StructField('Region',StringType(),True),\n",
    "              StructField(\"Residence Type\",StringType(),True),\n",
    "              StructField(\"Service Type\",StringType(),True),\n",
    "              StructField('Year',IntegerType(),True),\n",
    "              StructField('Coverage',FloatType(),True),\n",
    "              StructField('Population',FloatType(),True),\n",
    "              StructField('Facility type',StringType(),True)]\n",
    "final_struct = StructType(fields=data_schema)\n",
    "wash_df = spark.read.csv(\"WASH.csv\",schema=final_struct,header=True)\n",
    "wash_df.printSchema()"
   ]
  },
  {
   "cell_type": "markdown",
   "id": "4bebe336",
   "metadata": {},
   "source": [
    "## Select Target variables for our analysis\n"
   ]
  },
  {
   "cell_type": "code",
   "execution_count": 4,
   "id": "b2207879",
   "metadata": {},
   "outputs": [
    {
     "name": "stderr",
     "output_type": "stream",
     "text": [
      "                                                                                \r"
     ]
    },
    {
     "name": "stdout",
     "output_type": "stream",
     "text": [
      "+-------+-------------------+--------------+--------------+-----------------+-----------------+--------------------+--------------------+\n",
      "|summary|             Region|Residence Type|  Service Type|             Year|         Coverage|          Population|       Facility type|\n",
      "+-------+-------------------+--------------+--------------+-----------------+-----------------+--------------------+--------------------+\n",
      "|  count|                600|           600|           600|              600|              600|                 600|                 600|\n",
      "|   mean|               null|          null|          null|           2016.5|33.61109341591597|4.3656411323833334E8|                null|\n",
      "| stddev|               null|          null|          null|2.874677887159652|27.21752830198907| 4.782407787147155E8|                null|\n",
      "|    min|        High income|         rural|Drinking water|             2012|          0.78282|           7231180.5|Improved latrine ...|\n",
      "|    max|Upper middle income|         urban|    Sanitation|             2021|          98.9212|        2.29672218E9|               Sewer|\n",
      "+-------+-------------------+--------------+--------------+-----------------+-----------------+--------------------+--------------------+\n",
      "\n"
     ]
    }
   ],
   "source": [
    "# drop the 'Type' column\n",
    "wash_df = wash_df.drop('Type')\n",
    "wash_df.describe().show()"
   ]
  },
  {
   "cell_type": "code",
   "execution_count": 5,
   "id": "8a691a00",
   "metadata": {},
   "outputs": [
    {
     "name": "stderr",
     "output_type": "stream",
     "text": [
      "\r",
      "[Stage 6:>                                                          (0 + 1) / 1]\r"
     ]
    },
    {
     "name": "stdout",
     "output_type": "stream",
     "text": [
      "+-------+-----------+-----------------+---------------------------------------------------------------------------------------------------------------------+\n",
      "|summary|     Entity|             Year|Share of total deaths that are from all causes attributed to unsafe water source, in both sexes aged age-standardized|\n",
      "+-------+-----------+-----------------+---------------------------------------------------------------------------------------------------------------------+\n",
      "|  count|       6840|             6840|                                                                                                                 6840|\n",
      "|   mean|       null|           2004.5|                                                                                                   2.2082172846679153|\n",
      "| stddev|       null|8.656074225491706|                                                                                                     3.09963769859107|\n",
      "|    min|Afghanistan|             1990|                                                                                                         3.0526944E-4|\n",
      "|    max|   Zimbabwe|             2019|                                                                                                            15.295659|\n",
      "+-------+-----------+-----------------+---------------------------------------------------------------------------------------------------------------------+\n",
      "\n"
     ]
    },
    {
     "name": "stderr",
     "output_type": "stream",
     "text": [
      "\r",
      "                                                                                \r"
     ]
    }
   ],
   "source": [
    "# drop the 'Code' column\n",
    "death_df = death_df.drop('Code')\n",
    "death_df.describe().show()"
   ]
  },
  {
   "cell_type": "markdown",
   "id": "9ea972c9",
   "metadata": {},
   "source": [
    "### Coerce outliers and extremes"
   ]
  },
  {
   "cell_type": "code",
   "execution_count": 6,
   "id": "16143052",
   "metadata": {},
   "outputs": [],
   "source": [
    "# coerce outliers and extremes\n",
    "from pyspark.sql.functions import col, when\n",
    "from pyspark.sql.types import IntegerType, FloatType, DoubleType\n",
    "\n",
    "numeric_cols = [f.name for f in wash_df.schema.fields if isinstance(f.dataType, (DoubleType, IntegerType, FloatType))]\n",
    "\n",
    "from pyspark.sql.functions import col, when\n",
    "from pyspark.sql.types import IntegerType, FloatType, DoubleType\n",
    "\n",
    "# Identify numeric columns\n",
    "numeric_cols = [f.name for f in wash_df.schema.fields if isinstance(f.dataType, (DoubleType, IntegerType, FloatType))]\n",
    "\n",
    "for column in numeric_cols:\n",
    "    Q1, Q3 = wash_df.approxQuantile(column, [0.25, 0.75], 0.05)\n",
    "    IQR = Q3 - Q1\n",
    "    lower_bound = Q1 - 1.5 * IQR\n",
    "    upper_bound = Q3 + 1.5 * IQR\n",
    "\n",
    "    # Coerce outliers using withColumn and when\n",
    "    wash_df = wash_df.withColumn(column, \n",
    "                                 when(col(column) > upper_bound, upper_bound)\n",
    "                                 .when(col(column) < lower_bound, lower_bound)\n",
    "                                 .otherwise(col(column)))"
   ]
  },
  {
   "cell_type": "code",
   "execution_count": 7,
   "id": "fe37223a",
   "metadata": {},
   "outputs": [],
   "source": [
    "Q1, Q3 = death_df.approxQuantile('Share of total deaths that are from all causes attributed to unsafe water source, in both sexes aged age-standardized', [0.25, 0.75], 0.05)\n",
    "IQR = Q3 - Q1\n",
    "\n",
    "# Define bounds for outliers\n",
    "lower_bound = Q1 - 1.5 * IQR\n",
    "upper_bound = Q3 + 1.5 * IQR\n",
    "\n",
    "# Replace outliers with closest point\n",
    "death_df = death_df.withColumn ('Share of total deaths that are from all causes attributed to unsafe water source, in both sexes aged age-standardized', \n",
    "                               when(col('Share of total deaths that are from all causes attributed to unsafe water source, in both sexes aged age-standardized') < lower_bound, lower_bound)\n",
    "                               .when(col('Share of total deaths that are from all causes attributed to unsafe water source, in both sexes aged age-standardized') > upper_bound, upper_bound)\n",
    "                               .otherwise(col('Share of total deaths that are from all causes attributed to unsafe water source, in both sexes aged age-standardized')))\n"
   ]
  },
  {
   "cell_type": "code",
   "execution_count": 8,
   "id": "fa8b9b20",
   "metadata": {},
   "outputs": [
    {
     "data": {
      "image/png": "[encoded data removed]",
      "text/plain": [
       "<Figure size 720x432 with 1 Axes>"
      ]
     },
     "metadata": {
      "needs_background": "light"
     },
     "output_type": "display_data"
    }
   ],
   "source": [
    "import matplotlib.pyplot as plt\n",
    "import seaborn as sns\n",
    "import pandas as pd\n",
    "\n",
    "pdf = wash_df.select('Service Type', 'Coverage', 'Region').toPandas()\n",
    "\n",
    "# Use Seaborn for the Box Plot\n",
    "plt.figure(figsize=(10, 6))\n",
    "sns.boxplot(x='Region', y='Coverage', hue='Service Type', data=pdf, palette='pastel')\n",
    "plt.xlabel('Service Type')\n",
    "plt.ylabel('Coverage')\n",
    "plt.title('Boxplot of Coverage by Service Type for different Income Levels')\n",
    "plt.xticks(rotation=45)\n",
    "plt.legend(title='Income Level')\n",
    "plt.tight_layout()\n",
    "plt.show()\n"
   ]
  },
  {
   "cell_type": "code",
   "execution_count": 9,
   "id": "e2e775e7",
   "metadata": {},
   "outputs": [
    {
     "name": "stderr",
     "output_type": "stream",
     "text": [
      "                                                                                \r"
     ]
    },
    {
     "name": "stdout",
     "output_type": "stream",
     "text": [
      "+-------+-------------------+--------------+--------------+------------------+------------------+-------------------+--------------------+\n",
      "|summary|             Region|Residence Type|  Service Type|              Year|          Coverage|         Population|       Facility type|\n",
      "+-------+-------------------+--------------+--------------+------------------+------------------+-------------------+--------------------+\n",
      "|  count|                480|           480|           480|               480|               480|                480|                 480|\n",
      "|   mean|               null|          null|          null|            2015.5| 32.80813794583082| 4.07657743153125E8|                null|\n",
      "| stddev|               null|          null|          null|2.2936783414483375|25.975740073631226|4.151475955874268E8|                null|\n",
      "|    min|        High income|         rural|Drinking water|            2012.0|0.8136500120162964|          7691625.0|Improved latrine ...|\n",
      "|    max|Upper middle income|         urban|    Sanitation|            2019.0| 87.75890493392944|      1.300816078E9|               Sewer|\n",
      "+-------+-------------------+--------------+--------------+------------------+------------------+-------------------+--------------------+\n",
      "\n",
      "+-------+-----------+------------------+-------------------+\n",
      "|summary|     Entity|              Year|      MortalityRate|\n",
      "+-------+-----------+------------------+-------------------+\n",
      "|  count|       1824|              1824|               1824|\n",
      "|   mean|       null|            2015.5| 1.5627256156005165|\n",
      "| stddev|       null|2.2919162001148425| 2.2318879131124354|\n",
      "|    min|Afghanistan|              2012|6.19291327893734E-4|\n",
      "|    max|   Zimbabwe|              2019|  7.417001601308584|\n",
      "+-------+-----------+------------------+-------------------+\n",
      "\n",
      "+-------+-----------+----+-----------------+---------------------------------------------------+\n",
      "|summary|     Entity|Code|             Year|GDP per capita, PPP (constant 2017 international $)|\n",
      "+-------+-----------+----+-----------------+---------------------------------------------------+\n",
      "|  count|       1661|1549|             1661|                                               1661|\n",
      "|   mean|       null|null|2015.502107164359|                                 21102.113295433966|\n",
      "| stddev|       null|null|2.289215499986045|                                 21908.231329422848|\n",
      "|    min|Afghanistan| ABW|             2012|                                          729.65845|\n",
      "|    max|   Zimbabwe| ZWE|             2019|                                          157602.48|\n",
      "+-------+-----------+----+-----------------+---------------------------------------------------+\n",
      "\n"
     ]
    }
   ],
   "source": [
    "# filter irrelevant years\n",
    "wash_df = wash_df.filter((col('Year') >= 2012) & (col('Year') <= 2019))\n",
    "wash_df.describe().show()\n",
    "\n",
    "death_df = death_df.filter((col('Year') >= 2012) & (col('Year') <= 2019))\n",
    "death_df = death_df.withColumnRenamed('Share of total deaths that are from all causes attributed to unsafe water source, in both sexes aged age-standardized', 'MortalityRate')\n",
    "death_df.describe().show()\n",
    "\n",
    "gdp_df = gdp_df.filter((col('Year') >= 2012) & (col('Year') <= 2019))\n",
    "gdp_df.describe().show()"
   ]
  },
  {
   "cell_type": "markdown",
   "id": "17b4312c",
   "metadata": {},
   "source": [
    "### data construction"
   ]
  },
  {
   "cell_type": "code",
   "execution_count": 13,
   "id": "9bcdd8d0",
   "metadata": {},
   "outputs": [
    {
     "name": "stdout",
     "output_type": "stream",
     "text": [
      "+--------------------+------------------+\n",
      "|              Entity|          Mean GDP|\n",
      "+--------------------+------------------+\n",
      "|                Chad|1709.7349700927734|\n",
      "|            Paraguay|12897.003295898438|\n",
      "|              Russia|   26142.384765625|\n",
      "|               Macao|  132393.048828125|\n",
      "|               World|15644.167602539062|\n",
      "|             Senegal|   3092.4306640625|\n",
      "|              Sweden| 50679.15185546875|\n",
      "|            Kiribati|1965.1893157958984|\n",
      "|              Guyana| 11790.31591796875|\n",
      "|         Philippines| 7472.155212402344|\n",
      "|            Djibouti| 4241.804757254465|\n",
      "|               Tonga| 5865.833190917969|\n",
      "|            Malaysia|24603.265380859375|\n",
      "|           Singapore|    91007.55078125|\n",
      "|                Fiji|12008.389526367188|\n",
      "|              Turkey|25802.285400390625|\n",
      "|              Malawi|1442.6949920654297|\n",
      "|                Iraq| 9749.670043945312|\n",
      "|Sint Maarten (Dut...| 41090.00725446428|\n",
      "|             Germany| 51761.03564453125|\n",
      "+--------------------+------------------+\n",
      "only showing top 20 rows\n",
      "\n"
     ]
    }
   ],
   "source": [
    "# compute the mean gdp by country\n",
    "from pyspark.sql.functions import avg\n",
    "mean_gdp_by_country = gdp_df.groupBy('Entity').agg(avg('GDP per capita, PPP (constant 2017 international $)')\\\n",
    "                                                   .alias('Mean GDP'))\n",
    "mean_gdp_by_country.show()"
   ]
  },
  {
   "cell_type": "code",
   "execution_count": 19,
   "id": "6e6fa81d",
   "metadata": {},
   "outputs": [
    {
     "name": "stdout",
     "output_type": "stream",
     "text": [
      "+--------------------+------------------+-------------------+\n",
      "|              Entity|          Mean GDP|        IncomeLevel|\n",
      "+--------------------+------------------+-------------------+\n",
      "|                Chad|1709.7349700927734|         Low income|\n",
      "|            Paraguay|12897.003295898438|Upper middle income|\n",
      "|              Russia|   26142.384765625|        High income|\n",
      "|               Macao|  132393.048828125|        High income|\n",
      "|               World|15644.167602539062|        High income|\n",
      "|             Senegal|   3092.4306640625|Lower middle income|\n",
      "|              Sweden| 50679.15185546875|        High income|\n",
      "|            Kiribati|1965.1893157958984|Lower middle income|\n",
      "|              Guyana| 11790.31591796875|Upper middle income|\n",
      "|         Philippines| 7472.155212402344|Upper middle income|\n",
      "|            Djibouti| 4241.804757254465|Lower middle income|\n",
      "|               Tonga| 5865.833190917969|Lower middle income|\n",
      "|            Malaysia|24603.265380859375|        High income|\n",
      "|           Singapore|    91007.55078125|        High income|\n",
      "|                Fiji|12008.389526367188|Upper middle income|\n",
      "|              Turkey|25802.285400390625|        High income|\n",
      "|              Malawi|1442.6949920654297|         Low income|\n",
      "|                Iraq| 9749.670043945312|Upper middle income|\n",
      "|Sint Maarten (Dut...| 41090.00725446428|        High income|\n",
      "|             Germany| 51761.03564453125|        High income|\n",
      "+--------------------+------------------+-------------------+\n",
      "only showing top 20 rows\n",
      "\n"
     ]
    }
   ],
   "source": [
    "# convert into incomelevels\n",
    "\n",
    "income_category = mean_gdp_by_country.withColumn(\"IncomeLevel\",\n",
    "    when(col(\"`Mean GDP`\") <= 1897.289, \"Low income\")\n",
    "    .when((col(\"`Mean GDP`\") > 1897.289) & (col(\"`Mean GDP`\") <= 6464.184), \"Lower middle income\")\n",
    "    .when((col(\"`Mean GDP`\") > 6464.184) & (col(\"`Mean GDP`\") <= 15324.779), \"Upper middle income\")\n",
    "    .otherwise(\"High income\")\n",
    ")\n",
    "income_category.show()"
   ]
  },
  {
   "cell_type": "code",
   "execution_count": null,
   "id": "82f820b8",
   "metadata": {},
   "outputs": [],
   "source": []
  }
 ],
 "metadata": {
  "kernelspec": {
   "display_name": "Python 3 (ipykernel)",
   "language": "python",
   "name": "python3"
  },
  "language_info": {
   "codemirror_mode": {
    "name": "ipython",
    "version": 3
   },
   "file_extension": ".py",
   "mimetype": "text/x-python",
   "name": "python",
   "nbconvert_exporter": "python",
   "pygments_lexer": "ipython3",
   "version": "3.10.12"
  }
 },
 "nbformat": 4,
 "nbformat_minor": 5
}
