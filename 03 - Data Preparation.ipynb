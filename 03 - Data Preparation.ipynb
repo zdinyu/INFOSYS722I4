{
 "cells": [
  {
   "cell_type": "code",
   "execution_count": 1,
   "id": "6c194299",
   "metadata": {},
   "outputs": [
    {
     "name": "stderr",
     "output_type": "stream",
     "text": [
      "WARNING: An illegal reflective access operation has occurred\n",
      "WARNING: Illegal reflective access by org.apache.spark.unsafe.Platform (file:/home/ubuntu/spark-3.2.1-bin-hadoop2.7/jars/spark-unsafe_2.12-3.2.1.jar) to constructor java.nio.DirectByteBuffer(long,int)\n",
      "WARNING: Please consider reporting this to the maintainers of org.apache.spark.unsafe.Platform\n",
      "WARNING: Use --illegal-access=warn to enable warnings of further illegal reflective access operations\n",
      "WARNING: All illegal access operations will be denied in a future release\n",
      "Using Spark's default log4j profile: org/apache/spark/log4j-defaults.properties\n",
      "Setting default log level to \"WARN\".\n",
      "To adjust logging level use sc.setLogLevel(newLevel). For SparkR, use setLogLevel(newLevel).\n",
      "23/10/03 04:01:51 WARN NativeCodeLoader: Unable to load native-hadoop library for your platform... using builtin-java classes where applicable\n"
     ]
    }
   ],
   "source": [
    "import findspark\n",
    "findspark.init('/home/ubuntu/spark-3.2.1-bin-hadoop2.7')\n",
    "import pyspark\n",
    "from pyspark.sql import SparkSession\n",
    "spark = SparkSession.builder.appName('missing').getOrCreate()"
   ]
  },
  {
   "cell_type": "code",
   "execution_count": 2,
   "id": "8edb3b91",
   "metadata": {},
   "outputs": [
    {
     "name": "stderr",
     "output_type": "stream",
     "text": [
      "                                                                                \r"
     ]
    }
   ],
   "source": [
    "wash_df = spark.read.csv(\"WASH.csv\",header=True)\n",
    "death_df = spark.read.csv(\"unsafewaterdeathrate.csv\",header=True)\n",
    "gdp_df = spark.read.csv(\"gdp-per-capita-worldbank.csv\",header=True)"
   ]
  },
  {
   "cell_type": "code",
   "execution_count": 5,
   "id": "93ca067d",
   "metadata": {},
   "outputs": [
    {
     "name": "stdout",
     "output_type": "stream",
     "text": [
      "root\n",
      " |-- Entity: string (nullable = true)\n",
      " |-- Code: string (nullable = true)\n",
      " |-- Year: integer (nullable = true)\n",
      " |-- Share of total deaths that are from all causes attributed to unsafe water source, in both sexes aged age-standardized: float (nullable = true)\n",
      "\n",
      "root\n",
      " |-- Entity: string (nullable = true)\n",
      " |-- Code: string (nullable = true)\n",
      " |-- Year: integer (nullable = true)\n",
      " |-- GDP per capita, PPP (constant 2017 international $): float (nullable = true)\n",
      "\n",
      "root\n",
      " |-- Type: string (nullable = true)\n",
      " |-- Region: string (nullable = true)\n",
      " |-- Residence Type: string (nullable = true)\n",
      " |-- Service Type: string (nullable = true)\n",
      " |-- Year: integer (nullable = true)\n",
      " |-- Coverage: float (nullable = true)\n",
      " |-- Population: float (nullable = true)\n",
      " |-- Facility type: string (nullable = true)\n",
      "\n"
     ]
    }
   ],
   "source": [
    "from pyspark.sql.types import (StructField,StringType,IntegerType,FloatType,StructType)\n",
    "data_schema = [StructField('Entity',StringType(),True),\n",
    "              StructField('Code',StringType(),True),\n",
    "              StructField('Year',IntegerType(),True),\n",
    "              StructField('Share of total deaths that are from all causes attributed to unsafe water source, in both sexes aged age-standardized',FloatType(),True)]\n",
    "final_struct = StructType(fields=data_schema)\n",
    "death_df = spark.read.csv(\"unsafewaterdeathrate.csv\",schema=final_struct,header=True)\n",
    "death_df.printSchema()\n",
    "\n",
    "data_schema = [StructField('Entity',StringType(),True),\n",
    "              StructField('Code',StringType(),True),\n",
    "              StructField('Year',IntegerType(),True),\n",
    "              StructField('GDP per capita, PPP (constant 2017 international $)',FloatType(),True)]\n",
    "final_struct = StructType(fields=data_schema)\n",
    "gdp_df = spark.read.csv(\"gdp-per-capita-worldbank.csv\",schema=final_struct,header=True)\n",
    "gdp_df.printSchema()\n",
    "\n",
    "data_schema = [StructField('Type',StringType(),True),\n",
    "              StructField('Region',StringType(),True),\n",
    "              StructField(\"Residence Type\",StringType(),True),\n",
    "              StructField(\"Service Type\",StringType(),True),\n",
    "              StructField('Year',IntegerType(),True),\n",
    "              StructField('Coverage',FloatType(),True),\n",
    "              StructField('Population',FloatType(),True),\n",
    "              StructField('Facility type',StringType(),True)]\n",
    "final_struct = StructType(fields=data_schema)\n",
    "wash_df = spark.read.csv(\"WASH.csv\",schema=final_struct,header=True)\n",
    "wash_df.printSchema()"
   ]
  },
  {
   "cell_type": "markdown",
   "id": "4bebe336",
   "metadata": {},
   "source": [
    "## Select Target variables for our analysis\n"
   ]
  },
  {
   "cell_type": "code",
   "execution_count": 12,
   "id": "b2207879",
   "metadata": {},
   "outputs": [
    {
     "name": "stdout",
     "output_type": "stream",
     "text": [
      "+-----------+--------------+--------------+----+--------+------------+--------------------+\n",
      "|     Region|Residence Type|  Service Type|Year|Coverage|  Population|       Facility type|\n",
      "+-----------+--------------+--------------+----+--------+------------+--------------------+\n",
      "|High income|         total|    Sanitation|2012| 3.16338|  3.703898E7|Improved latrine ...|\n",
      "|High income|         rural|    Sanitation|2012| 7.33999| 1.7285014E7|Improved latrine ...|\n",
      "|High income|         urban|    Sanitation|2012|  1.8344|  1.715856E7|Improved latrine ...|\n",
      "|High income|         total|    Sanitation|2012|13.44265| 1.5739536E8|         Septic tank|\n",
      "|High income|         rural|    Sanitation|2012|33.11531| 7.7983552E7|         Septic tank|\n",
      "|High income|         urban|    Sanitation|2012| 7.74518| 7.2446424E7|         Septic tank|\n",
      "|High income|         total|    Sanitation|2012|82.65761| 9.6780966E8|               Sewer|\n",
      "|High income|         rural|    Sanitation|2012|57.11532|1.34501392E8|               Sewer|\n",
      "|High income|         urban|    Sanitation|2012|90.11413| 8.4290483E8|               Sewer|\n",
      "|High income|         total|Drinking water|2012|  2.0877| 2.4444186E7|  Non-piped improved|\n",
      "|High income|         rural|Drinking water|2012| 5.96939| 1.4057374E7|  Non-piped improved|\n",
      "|High income|         urban|Drinking water|2012| 0.92841|   8684095.0|  Non-piped improved|\n",
      "|High income|         total|Drinking water|2012|97.25369|1.13871014E9|      Piped improved|\n",
      "|High income|         rural|Drinking water|2012|92.33865|2.17449168E8|      Piped improved|\n",
      "|High income|         urban|Drinking water|2012|98.67697| 9.2299942E8|      Piped improved|\n",
      "|High income|         total|    Sanitation|2013| 3.06076| 3.6049436E7|Improved latrine ...|\n",
      "|High income|         rural|    Sanitation|2013|  7.3612| 1.7288604E7|Improved latrine ...|\n",
      "|High income|         urban|    Sanitation|2013| 1.74713| 1.6474305E7|Improved latrine ...|\n",
      "|High income|         total|    Sanitation|2013|13.17215|1.55140736E8|         Septic tank|\n",
      "|High income|         rural|    Sanitation|2013|32.72778|  7.686484E7|         Septic tank|\n",
      "+-----------+--------------+--------------+----+--------+------------+--------------------+\n",
      "only showing top 20 rows\n",
      "\n"
     ]
    },
    {
     "name": "stderr",
     "output_type": "stream",
     "text": [
      "\r",
      "[Stage 7:>                                                          (0 + 1) / 1]\r"
     ]
    },
    {
     "name": "stdout",
     "output_type": "stream",
     "text": [
      "+-------+-------------------+--------------+--------------+-----------------+-----------------+--------------------+--------------------+\n",
      "|summary|             Region|Residence Type|  Service Type|             Year|         Coverage|          Population|       Facility type|\n",
      "+-------+-------------------+--------------+--------------+-----------------+-----------------+--------------------+--------------------+\n",
      "|  count|                600|           600|           600|              600|              600|                 600|                 600|\n",
      "|   mean|               null|          null|          null|           2016.5|33.61109341591597|4.3656411323833334E8|                null|\n",
      "| stddev|               null|          null|          null|2.874677887159652|27.21752830198907| 4.782407787147155E8|                null|\n",
      "|    min|        High income|         rural|Drinking water|             2012|          0.78282|           7231180.5|Improved latrine ...|\n",
      "|    max|Upper middle income|         urban|    Sanitation|             2021|          98.9212|        2.29672218E9|               Sewer|\n",
      "+-------+-------------------+--------------+--------------+-----------------+-----------------+--------------------+--------------------+\n",
      "\n"
     ]
    },
    {
     "name": "stderr",
     "output_type": "stream",
     "text": [
      "\r",
      "                                                                                \r"
     ]
    }
   ],
   "source": [
    "# drop the 'Type' column\n",
    "wash_df = wash_df.drop('Type')\n",
    "wash_df.describe().show()"
   ]
  },
  {
   "cell_type": "code",
   "execution_count": 13,
   "id": "8a691a00",
   "metadata": {},
   "outputs": [
    {
     "name": "stdout",
     "output_type": "stream",
     "text": [
      "+-------+-----------+-----------------+---------------------------------------------------------------------------------------------------------------------+\n",
      "|summary|     Entity|             Year|Share of total deaths that are from all causes attributed to unsafe water source, in both sexes aged age-standardized|\n",
      "+-------+-----------+-----------------+---------------------------------------------------------------------------------------------------------------------+\n",
      "|  count|       6840|             6840|                                                                                                                 6840|\n",
      "|   mean|       null|           2004.5|                                                                                                   2.2082172846679153|\n",
      "| stddev|       null|8.656074225491706|                                                                                                     3.09963769859107|\n",
      "|    min|Afghanistan|             1990|                                                                                                         3.0526944E-4|\n",
      "|    max|   Zimbabwe|             2019|                                                                                                            15.295659|\n",
      "+-------+-----------+-----------------+---------------------------------------------------------------------------------------------------------------------+\n",
      "\n"
     ]
    }
   ],
   "source": [
    "# drop the 'Code' column\n",
    "death_df = death_df.drop('Code')\n",
    "death_df.describe().show()"
   ]
  },
  {
   "cell_type": "code",
   "execution_count": null,
   "id": "c6344b1b",
   "metadata": {},
   "outputs": [],
   "source": []
  }
 ],
 "metadata": {
  "kernelspec": {
   "display_name": "Python 3 (ipykernel)",
   "language": "python",
   "name": "python3"
  },
  "language_info": {
   "codemirror_mode": {
    "name": "ipython",
    "version": 3
   },
   "file_extension": ".py",
   "mimetype": "text/x-python",
   "name": "python",
   "nbconvert_exporter": "python",
   "pygments_lexer": "ipython3",
   "version": "3.10.12"
  }
 },
 "nbformat": 4,
 "nbformat_minor": 5
}
