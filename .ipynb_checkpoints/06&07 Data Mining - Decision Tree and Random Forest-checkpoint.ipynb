{
 "cells": [
  {
   "cell_type": "code",
   "execution_count": 1,
   "id": "ca089a4d",
   "metadata": {},
   "outputs": [
    {
     "name": "stderr",
     "output_type": "stream",
     "text": [
      "WARNING: An illegal reflective access operation has occurred\n",
      "WARNING: Illegal reflective access by org.apache.spark.unsafe.Platform (file:/home/ubuntu/spark-3.2.1-bin-hadoop2.7/jars/spark-unsafe_2.12-3.2.1.jar) to constructor java.nio.DirectByteBuffer(long,int)\n",
      "WARNING: Please consider reporting this to the maintainers of org.apache.spark.unsafe.Platform\n",
      "WARNING: Use --illegal-access=warn to enable warnings of further illegal reflective access operations\n",
      "WARNING: All illegal access operations will be denied in a future release\n",
      "Using Spark's default log4j profile: org/apache/spark/log4j-defaults.properties\n",
      "Setting default log level to \"WARN\".\n",
      "To adjust logging level use sc.setLogLevel(newLevel). For SparkR, use setLogLevel(newLevel).\n",
      "23/10/10 02:00:12 WARN NativeCodeLoader: Unable to load native-hadoop library for your platform... using builtin-java classes where applicable\n"
     ]
    }
   ],
   "source": [
    "import findspark\n",
    "findspark.init('/home/ubuntu/spark-3.2.1-bin-hadoop2.7')\n",
    "import pyspark\n",
    "from pyspark.sql import SparkSession\n",
    "spark = SparkSession.builder.appName('tree_methods_adv').getOrCreate()"
   ]
  },
  {
   "cell_type": "code",
   "execution_count": 2,
   "id": "96cc350f",
   "metadata": {},
   "outputs": [
    {
     "name": "stderr",
     "output_type": "stream",
     "text": [
      "                                                                                \r"
     ]
    }
   ],
   "source": [
    "# data processing from section 03\n",
    "from pyspark.sql.types import (StructField,StringType,IntegerType,FloatType,StructType)\n",
    "data_schema = [StructField('Entity',StringType(),True),\n",
    "              StructField('Code',StringType(),True),\n",
    "              StructField('Year',IntegerType(),True),\n",
    "              StructField('Share of total deaths that are from all causes attributed to unsafe water source, in both sexes aged age-standardized',FloatType(),True)]\n",
    "final_struct = StructType(fields=data_schema)\n",
    "death_df = spark.read.csv(\"unsafewaterdeathrate.csv\",schema=final_struct,header=True)\n",
    "\n",
    "data_schema = [StructField('Entity',StringType(),True),\n",
    "              StructField('Code',StringType(),True),\n",
    "              StructField('Year',IntegerType(),True),\n",
    "              StructField('GDP per capita, PPP (constant 2017 international $)',FloatType(),True)]\n",
    "final_struct = StructType(fields=data_schema)\n",
    "gdp_df = spark.read.csv(\"gdp-per-capita-worldbank.csv\",schema=final_struct,header=True)\n",
    "\n",
    "data_schema = [StructField('Type',StringType(),True),\n",
    "              StructField('Region',StringType(),True),\n",
    "              StructField(\"Residence Type\",StringType(),True),\n",
    "              StructField(\"Service Type\",StringType(),True),\n",
    "              StructField('Year',IntegerType(),True),\n",
    "              StructField('Coverage',FloatType(),True),\n",
    "              StructField('Population',FloatType(),True),\n",
    "              StructField('Facility type',StringType(),True)]\n",
    "final_struct = StructType(fields=data_schema)\n",
    "wash_df = spark.read.csv(\"WASH.csv\",schema=final_struct,header=True)\n",
    "\n",
    "wash_df = wash_df.drop('Type')\n",
    "death_df = death_df.drop('Code')\n",
    "\n",
    "from pyspark.sql.functions import col, when\n",
    "from pyspark.sql.types import IntegerType, FloatType, DoubleType\n",
    "\n",
    "numeric_cols = [f.name for f in wash_df.schema.fields if isinstance(f.dataType, (DoubleType, IntegerType, FloatType))]\n",
    "\n",
    "# Identify numeric columns\n",
    "numeric_cols = [f.name for f in wash_df.schema.fields if isinstance(f.dataType, (DoubleType, IntegerType, FloatType))]\n",
    "\n",
    "for column in numeric_cols:\n",
    "    Q1, Q3 = wash_df.approxQuantile(column, [0.25, 0.75], 0.05)\n",
    "    IQR = Q3 - Q1\n",
    "    lower_bound = Q1 - 1.5 * IQR\n",
    "    upper_bound = Q3 + 1.5 * IQR\n",
    "\n",
    "    # Coerce outliers using withColumn and when\n",
    "    wash_df = wash_df.withColumn(column, \n",
    "                                 when(col(column) > upper_bound, upper_bound)\n",
    "                                 .when(col(column) < lower_bound, lower_bound)\n",
    "                                 .otherwise(col(column)))\n",
    "    \n",
    "Q1, Q3 = death_df.approxQuantile('Share of total deaths that are from all causes attributed to unsafe water source, in both sexes aged age-standardized', [0.25, 0.75], 0.05)\n",
    "IQR = Q3 - Q1\n",
    "\n",
    "# Define bounds for outliers\n",
    "lower_bound = Q1 - 1.5 * IQR\n",
    "upper_bound = Q3 + 1.5 * IQR\n",
    "\n",
    "# Replace outliers with closest point\n",
    "death_df = death_df.withColumn ('Share of total deaths that are from all causes attributed to unsafe water source, in both sexes aged age-standardized', \n",
    "                               when(col('Share of total deaths that are from all causes attributed to unsafe water source, in both sexes aged age-standardized') < lower_bound, lower_bound)\n",
    "                               .when(col('Share of total deaths that are from all causes attributed to unsafe water source, in both sexes aged age-standardized') > upper_bound, upper_bound)\n",
    "                               .otherwise(col('Share of total deaths that are from all causes attributed to unsafe water source, in both sexes aged age-standardized')))\n",
    "\n",
    "# filter irrelevant years\n",
    "wash_df = wash_df.filter((col('Year') >= 2012) & (col('Year') <= 2019))\n",
    "death_df = death_df.filter((col('Year') >= 2012) & (col('Year') <= 2019))\n",
    "death_df = death_df.withColumnRenamed('Share of total deaths that are from all causes attributed to unsafe water source, in both sexes aged age-standardized', 'MortalityRate')\n",
    "gdp_df = gdp_df.filter((col('Year') >= 2012) & (col('Year') <= 2019))\n",
    "\n",
    "# compute the mean gdp by country\n",
    "from pyspark.sql.functions import avg\n",
    "mean_gdp_by_country = gdp_df.groupBy('Entity').agg(avg('GDP per capita, PPP (constant 2017 international $)')\\\n",
    "                                                   .alias('Mean GDP'))\n",
    "# convert into incomelevels\n",
    "income_category = mean_gdp_by_country.withColumn(\"IncomeLevel\",\n",
    "    when(col(\"`Mean GDP`\") <= 1897.289, \"Low income\")\n",
    "    .when((col(\"`Mean GDP`\") > 1897.289) & (col(\"`Mean GDP`\") <= 6464.184), \"Lower middle income\")\n",
    "    .when((col(\"`Mean GDP`\") > 6464.184) & (col(\"`Mean GDP`\") <= 15324.779), \"Upper middle income\")\n",
    "    .otherwise(\"High income\")\n",
    ")\n",
    "\n",
    "death_gdp_df = death_df.join(income_category, death_df[\"Entity\"] \\\n",
    "                             == income_category[\"Entity\"], how='inner').drop(income_category[\"Entity\"])\n",
    "\n",
    "wash_df = wash_df.withColumnRenamed(\"Region\", \"IncomeLevel\")\n",
    "\n",
    "final_df = wash_df.join(death_gdp_df, on=['Year', 'IncomeLevel'], how='inner')\n",
    "\n",
    "from pyspark.sql.types import IntegerType, DoubleType\n",
    "\n",
    "final_df = (final_df.withColumn(\"Year\", final_df[\"Year\"].cast(IntegerType()))\n",
    "                   .withColumn(\"Coverage\", final_df[\"Coverage\"].cast(DoubleType()))\n",
    "                   .withColumn(\"MortalityRate\", final_df[\"MortalityRate\"].cast(DoubleType()))\n",
    "                   .withColumn(\"Population\", final_df[\"Population\"].cast(DoubleType()))\n",
    "                   .withColumn(\"Mean GDP\", final_df[\"Mean GDP\"].cast(DoubleType())))\n",
    "\n",
    "from pyspark.sql.functions import col, when\n",
    "\n",
    "final_df = final_df.withColumn(\"IncomeLevel\", \n",
    "                               when(col(\"IncomeLevel\") == \"Lower middle income\", 1)\n",
    "                               .when(col(\"IncomeLevel\") == \"Upper middle income\", 2)\n",
    "                               .when(col(\"IncomeLevel\") == \"High income\", 3)\n",
    "                               .when(col(\"IncomeLevel\") == \"Low income\", 0)\n",
    "                               .otherwise(col(\"IncomeLevel\")))\n",
    "\n",
    "final_df = final_df.withColumn(\"Service Type\", \n",
    "                               when(col(\"Service Type\") == \"Sanitation\", 1)\n",
    "                               .when(col(\"Service Type\") == \"Drinking water\", 2)\n",
    "                               .otherwise(col(\"Service Type\")))\n",
    "\n",
    "final_df = final_df.withColumn(\"Residence Type\", \n",
    "                               when(col(\"Residence Type\") == \"total\", 1)\n",
    "                               .when(col(\"Residence Type\") == \"rural\", 2)\n",
    "                               .when(col(\"Residence Type\") == \"urban\", 3)\n",
    "                               .otherwise(col(\"Residence Type\")))\n",
    "\n",
    "final_df = final_df.withColumn(\"Facility type\", \n",
    "                               when(col(\"Facility type\") == \"Improved latrine and other\", 1)\n",
    "                               .when(col(\"Facility type\") == \"Septic tank\", 2)\n",
    "                               .when(col(\"Facility type\") == \"Sewer\", 3)\n",
    "                               .when(col(\"Facility type\") == \"Non-piped improved\", 4)\n",
    "                               .when(col(\"Facility type\") == \"Piped improved\", 5)\n",
    "                               .otherwise(col(\"Facility type\")))\n",
    "\n",
    "final_df = (final_df.withColumn(\"IncomeLevel\", final_df[\"IncomeLevel\"].cast(IntegerType()))\n",
    "                   .withColumn(\"Residence Type\", final_df[\"Residence Type\"].cast(IntegerType()))\n",
    "                   .withColumn(\"Service Type\", final_df[\"Service Type\"].cast(IntegerType()))\n",
    "                   .withColumn(\"Facility type\", final_df[\"Facility type\"].cast(IntegerType()))\n",
    "           )"
   ]
  },
  {
   "cell_type": "markdown",
   "id": "43c233dd",
   "metadata": {},
   "source": [
    "## Single Decision Tree"
   ]
  },
  {
   "cell_type": "markdown",
   "id": "67c97597",
   "metadata": {},
   "source": [
    "## Spark Formatting of Data"
   ]
  },
  {
   "cell_type": "code",
   "execution_count": 3,
   "id": "64eb26ba",
   "metadata": {},
   "outputs": [],
   "source": [
    "# Import VectorAssembler and Vectors\n",
    "from pyspark.ml.linalg import Vectors\n",
    "from pyspark.ml.feature import VectorAssembler"
   ]
  },
  {
   "cell_type": "code",
   "execution_count": 4,
   "id": "9c61a796",
   "metadata": {},
   "outputs": [
    {
     "name": "stdout",
     "output_type": "stream",
     "text": [
      "root\n",
      " |-- Year: integer (nullable = true)\n",
      " |-- IncomeLevel: integer (nullable = true)\n",
      " |-- Residence Type: integer (nullable = true)\n",
      " |-- Service Type: integer (nullable = true)\n",
      " |-- Coverage: double (nullable = true)\n",
      " |-- Population: double (nullable = true)\n",
      " |-- Facility type: integer (nullable = true)\n",
      " |-- Entity: string (nullable = true)\n",
      " |-- MortalityRate: double (nullable = true)\n",
      " |-- Mean GDP: double (nullable = true)\n",
      "\n"
     ]
    }
   ],
   "source": [
    "final_df.printSchema()"
   ]
  },
  {
   "cell_type": "code",
   "execution_count": 5,
   "id": "430ccbed",
   "metadata": {},
   "outputs": [
    {
     "name": "stderr",
     "output_type": "stream",
     "text": [
      "                                                                                \r"
     ]
    },
    {
     "data": {
      "text/plain": [
       "Row(Year=2019, IncomeLevel=0, Residence Type=3, Service Type=2, Coverage=69.44994354248047, Population=149290160.0, Facility type=5, Entity='Chad', MortalityRate=7.417001601308584, Mean GDP=1709.7349700927734)"
      ]
     },
     "execution_count": 5,
     "metadata": {},
     "output_type": "execute_result"
    }
   ],
   "source": [
    "final_df.head()"
   ]
  },
  {
   "cell_type": "code",
   "execution_count": 6,
   "id": "d5b50a89",
   "metadata": {},
   "outputs": [
    {
     "data": {
      "text/plain": [
       "['Year',\n",
       " 'IncomeLevel',\n",
       " 'Residence Type',\n",
       " 'Service Type',\n",
       " 'Coverage',\n",
       " 'Population',\n",
       " 'Facility type',\n",
       " 'Entity',\n",
       " 'MortalityRate',\n",
       " 'Mean GDP']"
      ]
     },
     "execution_count": 6,
     "metadata": {},
     "output_type": "execute_result"
    }
   ],
   "source": [
    "final_df.columns"
   ]
  },
  {
   "cell_type": "code",
   "execution_count": 7,
   "id": "7427b819",
   "metadata": {},
   "outputs": [],
   "source": [
    "from pyspark.ml.linalg import Vectors\n",
    "from pyspark.ml.feature import VectorAssembler\n",
    "# Combine all features into one vector named features.\n",
    "assembler = VectorAssembler(\n",
    "  inputCols=['Year',\n",
    "             'IncomeLevel',\n",
    "             'Residence Type',\n",
    "             'Facility type',\n",
    "             'MortalityRate',\n",
    "             'Mean GDP'],\n",
    "              outputCol=\"features\")"
   ]
  },
  {
   "cell_type": "code",
   "execution_count": 8,
   "id": "42ce53c9",
   "metadata": {},
   "outputs": [
    {
     "name": "stdout",
     "output_type": "stream",
     "text": [
      "DataFrame[Year: int, IncomeLevel: int, Residence Type: int, Service Type: int, Coverage: double, Population: double, Facility type: int, Entity: string, MortalityRate: double, Mean GDP: double, features: vector]\n"
     ]
    }
   ],
   "source": [
    "output = assembler.transform(final_df)\n",
    "print(output)"
   ]
  },
  {
   "cell_type": "code",
   "execution_count": 9,
   "id": "a62aa6ad",
   "metadata": {},
   "outputs": [],
   "source": [
    "from pyspark.ml.feature import StringIndexer"
   ]
  },
  {
   "cell_type": "code",
   "execution_count": 10,
   "id": "4bd472bb",
   "metadata": {},
   "outputs": [
    {
     "name": "stderr",
     "output_type": "stream",
     "text": [
      "                                                                                \r"
     ]
    },
    {
     "name": "stdout",
     "output_type": "stream",
     "text": [
      "DataFrame[Year: int, IncomeLevel: int, Residence Type: int, Service Type: int, Coverage: double, Population: double, Facility type: int, Entity: string, MortalityRate: double, Mean GDP: double, features: vector, CoverageIndex: double]\n"
     ]
    }
   ],
   "source": [
    "indexer = StringIndexer(inputCol=\"Coverage\", outputCol=\"CoverageIndex\")\n",
    "output_fixed = indexer.fit(output).transform(output)\n",
    "print(output_fixed)"
   ]
  },
  {
   "cell_type": "code",
   "execution_count": 11,
   "id": "323a73a5",
   "metadata": {},
   "outputs": [],
   "source": [
    "final_data = output_fixed.select(\"features\",'CoverageIndex')\n",
    "train_data,test_data = final_data.randomSplit([0.8,0.2])"
   ]
  },
  {
   "cell_type": "markdown",
   "id": "6700fce2",
   "metadata": {},
   "source": [
    "## The classfier"
   ]
  },
  {
   "cell_type": "code",
   "execution_count": 12,
   "id": "e2888a67",
   "metadata": {},
   "outputs": [],
   "source": [
    "# Let's import the relevant classifiers. \n",
    "from pyspark.ml.classification import DecisionTreeClassifier,GBTClassifier,RandomForestClassifier\n",
    "from pyspark.ml import Pipeline"
   ]
  },
  {
   "cell_type": "code",
   "execution_count": 13,
   "id": "fe4ebf0d",
   "metadata": {},
   "outputs": [
    {
     "name": "stderr",
     "output_type": "stream",
     "text": [
      "                                                                                \r"
     ]
    }
   ],
   "source": [
    "dtc = DecisionTreeClassifier(labelCol='CoverageIndex', featuresCol='features')\n",
    "dtc_model = dtc.fit(train_data)\n",
    "dtc_predictions = dtc_model.transform(test_data)"
   ]
  },
  {
   "cell_type": "markdown",
   "id": "09efd4ab",
   "metadata": {},
   "source": [
    "### Evaluation metrices"
   ]
  },
  {
   "cell_type": "code",
   "execution_count": 14,
   "id": "551fedc8",
   "metadata": {},
   "outputs": [
    {
     "name": "stderr",
     "output_type": "stream",
     "text": [
      "\r",
      "[Stage 49:>                                                         (0 + 1) / 1]\r"
     ]
    },
    {
     "name": "stdout",
     "output_type": "stream",
     "text": [
      "Here are the results!\n",
      "----------------------------------------\n",
      "A single decision tree has an accuracy of: 86.01%\n"
     ]
    },
    {
     "name": "stderr",
     "output_type": "stream",
     "text": [
      "\r",
      "                                                                                \r"
     ]
    }
   ],
   "source": [
    "from pyspark.ml.evaluation import MulticlassClassificationEvaluator\n",
    "acc_evaluator = MulticlassClassificationEvaluator(labelCol=\"CoverageIndex\", predictionCol=\"prediction\", metricName=\"accuracy\")\n",
    "dtc_acc = acc_evaluator.evaluate(dtc_predictions)\n",
    "print(\"Here are the results!\")\n",
    "print('-'*40)\n",
    "print('A single decision tree has an accuracy of: {0:2.2f}%'.format(dtc_acc*100))"
   ]
  },
  {
   "cell_type": "markdown",
   "id": "c8cdffdf",
   "metadata": {},
   "source": [
    "## Random Forest (L.O.2)"
   ]
  },
  {
   "cell_type": "markdown",
   "id": "374a1ef0",
   "metadata": {},
   "source": [
    "## Spark Formatting of Data"
   ]
  },
  {
   "cell_type": "code",
   "execution_count": 15,
   "id": "5a4c08df",
   "metadata": {},
   "outputs": [],
   "source": [
    "from pyspark.ml.linalg import Vectors\n",
    "from pyspark.ml.feature import VectorAssembler\n",
    "# Combine all features into one vector named features.\n",
    "assembler = VectorAssembler(\n",
    "  inputCols=['Year',\n",
    "             'IncomeLevel',\n",
    "             'Residence Type',\n",
    "             'Service Type',\n",
    "             'Facility type',\n",
    "             'Population',\n",
    "             'Coverage',\n",
    "             'Mean GDP'],\n",
    "              outputCol=\"features\")"
   ]
  },
  {
   "cell_type": "code",
   "execution_count": 16,
   "id": "efb0b97c",
   "metadata": {},
   "outputs": [
    {
     "name": "stdout",
     "output_type": "stream",
     "text": [
      "DataFrame[Year: int, IncomeLevel: int, Residence Type: int, Service Type: int, Coverage: double, Population: double, Facility type: int, Entity: string, MortalityRate: double, Mean GDP: double, features: vector]\n"
     ]
    }
   ],
   "source": [
    "output = assembler.transform(final_df)\n",
    "print(output)"
   ]
  },
  {
   "cell_type": "code",
   "execution_count": 17,
   "id": "70831d41",
   "metadata": {},
   "outputs": [
    {
     "name": "stdout",
     "output_type": "stream",
     "text": [
      "DataFrame[Year: int, IncomeLevel: int, Residence Type: int, Service Type: int, Coverage: double, Population: double, Facility type: int, Entity: string, MortalityRate: double, Mean GDP: double, features: vector, MortalityRateIndex: double]\n"
     ]
    }
   ],
   "source": [
    "indexer = StringIndexer(inputCol=\"MortalityRate\", outputCol=\"MortalityRateIndex\")\n",
    "output_fixed = indexer.fit(output).transform(output)\n",
    "print(output_fixed)"
   ]
  },
  {
   "cell_type": "code",
   "execution_count": 18,
   "id": "68e5ed88",
   "metadata": {},
   "outputs": [],
   "source": [
    "final_data = output_fixed.select(\"features\",'MortalityRateIndex')\n",
    "train_data,test_data = final_data.randomSplit([0.8,0.2])"
   ]
  },
  {
   "cell_type": "markdown",
   "id": "7a18d058",
   "metadata": {},
   "source": [
    "## The classfier"
   ]
  },
  {
   "cell_type": "code",
   "execution_count": 19,
   "id": "381d17b0",
   "metadata": {},
   "outputs": [
    {
     "name": "stderr",
     "output_type": "stream",
     "text": [
      "                                                                                \r"
     ]
    }
   ],
   "source": [
    "from pyspark.ml.classification import DecisionTreeClassifier,GBTClassifier,RandomForestClassifier\n",
    "from pyspark.ml import Pipeline\n",
    "rfc = DecisionTreeClassifier(labelCol='MortalityRateIndex', featuresCol='features')\n",
    "rfc_model = rfc.fit(train_data)\n",
    "rfc_predictions = rfc_model.transform(test_data)"
   ]
  },
  {
   "cell_type": "code",
   "execution_count": 20,
   "id": "245ccaf9",
   "metadata": {},
   "outputs": [
    {
     "name": "stderr",
     "output_type": "stream",
     "text": [
      "\r",
      "[Stage 91:>                                                         (0 + 1) / 1]\r"
     ]
    },
    {
     "name": "stdout",
     "output_type": "stream",
     "text": [
      "Here are the results!\n",
      "----------------------------------------\n",
      "A Random Forest has an accuracy of: 81.88%\n"
     ]
    },
    {
     "name": "stderr",
     "output_type": "stream",
     "text": [
      "\r",
      "                                                                                \r"
     ]
    }
   ],
   "source": [
    "from pyspark.ml.evaluation import MulticlassClassificationEvaluator\n",
    "acc_evaluator = MulticlassClassificationEvaluator(labelCol=\"MortalityRateIndex\", predictionCol=\"prediction\", metricName=\"accuracy\")\n",
    "rfc_acc = acc_evaluator.evaluate(rfc_predictions)\n",
    "print(\"Here are the results!\")\n",
    "print('-'*40)\n",
    "print('A Random Forest has an accuracy of: {0:2.2f}%'.format(rfc_acc*100))"
   ]
  }
 ],
 "metadata": {
  "kernelspec": {
   "display_name": "Python 3 (ipykernel)",
   "language": "python",
   "name": "python3"
  },
  "language_info": {
   "codemirror_mode": {
    "name": "ipython",
    "version": 3
   },
   "file_extension": ".py",
   "mimetype": "text/x-python",
   "name": "python",
   "nbconvert_exporter": "python",
   "pygments_lexer": "ipython3",
   "version": "3.10.12"
  }
 },
 "nbformat": 4,
 "nbformat_minor": 5
}
