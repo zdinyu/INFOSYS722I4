{
 "cells": [
  {
   "cell_type": "code",
   "execution_count": 1,
   "id": "f1939f89",
   "metadata": {},
   "outputs": [
    {
     "name": "stderr",
     "output_type": "stream",
     "text": [
      "WARNING: An illegal reflective access operation has occurred\n",
      "WARNING: Illegal reflective access by org.apache.spark.unsafe.Platform (file:/home/ubuntu/spark-3.2.1-bin-hadoop2.7/jars/spark-unsafe_2.12-3.2.1.jar) to constructor java.nio.DirectByteBuffer(long,int)\n",
      "WARNING: Please consider reporting this to the maintainers of org.apache.spark.unsafe.Platform\n",
      "WARNING: Use --illegal-access=warn to enable warnings of further illegal reflective access operations\n",
      "WARNING: All illegal access operations will be denied in a future release\n",
      "Using Spark's default log4j profile: org/apache/spark/log4j-defaults.properties\n",
      "Setting default log level to \"WARN\".\n",
      "To adjust logging level use sc.setLogLevel(newLevel). For SparkR, use setLogLevel(newLevel).\n",
      "23/10/09 14:30:59 WARN NativeCodeLoader: Unable to load native-hadoop library for your platform... using builtin-java classes where applicable\n"
     ]
    }
   ],
   "source": [
    "import findspark\n",
    "findspark.init('/home/ubuntu/spark-3.2.1-bin-hadoop2.7')\n",
    "import pyspark\n",
    "from pyspark.sql import SparkSession\n",
    "spark = SparkSession.builder.appName('linear_regression_adv').getOrCreate()\n",
    "\n",
    "# If you're getting an error with numpy, please type 'sudo pip install numpy --user' into the EC2 console.\n",
    "from pyspark.ml.regression import LinearRegression"
   ]
  },
  {
   "cell_type": "code",
   "execution_count": 2,
   "id": "79165aed",
   "metadata": {},
   "outputs": [
    {
     "name": "stderr",
     "output_type": "stream",
     "text": [
      "                                                                                \r"
     ]
    }
   ],
   "source": [
    "# data processing from section 03\n",
    "from pyspark.sql.types import (StructField,StringType,IntegerType,FloatType,StructType)\n",
    "data_schema = [StructField('Entity',StringType(),True),\n",
    "              StructField('Code',StringType(),True),\n",
    "              StructField('Year',IntegerType(),True),\n",
    "              StructField('Share of total deaths that are from all causes attributed to unsafe water source, in both sexes aged age-standardized',FloatType(),True)]\n",
    "final_struct = StructType(fields=data_schema)\n",
    "death_df = spark.read.csv(\"unsafewaterdeathrate.csv\",schema=final_struct,header=True)\n",
    "\n",
    "data_schema = [StructField('Entity',StringType(),True),\n",
    "              StructField('Code',StringType(),True),\n",
    "              StructField('Year',IntegerType(),True),\n",
    "              StructField('GDP per capita, PPP (constant 2017 international $)',FloatType(),True)]\n",
    "final_struct = StructType(fields=data_schema)\n",
    "gdp_df = spark.read.csv(\"gdp-per-capita-worldbank.csv\",schema=final_struct,header=True)\n",
    "\n",
    "data_schema = [StructField('Type',StringType(),True),\n",
    "              StructField('Region',StringType(),True),\n",
    "              StructField(\"Residence Type\",StringType(),True),\n",
    "              StructField(\"Service Type\",StringType(),True),\n",
    "              StructField('Year',IntegerType(),True),\n",
    "              StructField('Coverage',FloatType(),True),\n",
    "              StructField('Population',FloatType(),True),\n",
    "              StructField('Facility type',StringType(),True)]\n",
    "final_struct = StructType(fields=data_schema)\n",
    "wash_df = spark.read.csv(\"WASH.csv\",schema=final_struct,header=True)\n",
    "\n",
    "wash_df = wash_df.drop('Type')\n",
    "death_df = death_df.drop('Code')\n",
    "\n",
    "from pyspark.sql.functions import col, when\n",
    "from pyspark.sql.types import IntegerType, FloatType, DoubleType\n",
    "\n",
    "numeric_cols = [f.name for f in wash_df.schema.fields if isinstance(f.dataType, (DoubleType, IntegerType, FloatType))]\n",
    "\n",
    "# Identify numeric columns\n",
    "numeric_cols = [f.name for f in wash_df.schema.fields if isinstance(f.dataType, (DoubleType, IntegerType, FloatType))]\n",
    "\n",
    "for column in numeric_cols:\n",
    "    Q1, Q3 = wash_df.approxQuantile(column, [0.25, 0.75], 0.05)\n",
    "    IQR = Q3 - Q1\n",
    "    lower_bound = Q1 - 1.5 * IQR\n",
    "    upper_bound = Q3 + 1.5 * IQR\n",
    "\n",
    "    # Coerce outliers using withColumn and when\n",
    "    wash_df = wash_df.withColumn(column, \n",
    "                                 when(col(column) > upper_bound, upper_bound)\n",
    "                                 .when(col(column) < lower_bound, lower_bound)\n",
    "                                 .otherwise(col(column)))\n",
    "    \n",
    "Q1, Q3 = death_df.approxQuantile('Share of total deaths that are from all causes attributed to unsafe water source, in both sexes aged age-standardized', [0.25, 0.75], 0.05)\n",
    "IQR = Q3 - Q1\n",
    "\n",
    "# Define bounds for outliers\n",
    "lower_bound = Q1 - 1.5 * IQR\n",
    "upper_bound = Q3 + 1.5 * IQR\n",
    "\n",
    "# Replace outliers with closest point\n",
    "death_df = death_df.withColumn ('Share of total deaths that are from all causes attributed to unsafe water source, in both sexes aged age-standardized', \n",
    "                               when(col('Share of total deaths that are from all causes attributed to unsafe water source, in both sexes aged age-standardized') < lower_bound, lower_bound)\n",
    "                               .when(col('Share of total deaths that are from all causes attributed to unsafe water source, in both sexes aged age-standardized') > upper_bound, upper_bound)\n",
    "                               .otherwise(col('Share of total deaths that are from all causes attributed to unsafe water source, in both sexes aged age-standardized')))\n",
    "\n",
    "# filter irrelevant years\n",
    "wash_df = wash_df.filter((col('Year') >= 2012) & (col('Year') <= 2019))\n",
    "death_df = death_df.filter((col('Year') >= 2012) & (col('Year') <= 2019))\n",
    "death_df = death_df.withColumnRenamed('Share of total deaths that are from all causes attributed to unsafe water source, in both sexes aged age-standardized', 'MortalityRate')\n",
    "gdp_df = gdp_df.filter((col('Year') >= 2012) & (col('Year') <= 2019))\n",
    "\n",
    "# compute the mean gdp by country\n",
    "from pyspark.sql.functions import avg\n",
    "mean_gdp_by_country = gdp_df.groupBy('Entity').agg(avg('GDP per capita, PPP (constant 2017 international $)')\\\n",
    "                                                   .alias('Mean GDP'))\n",
    "# convert into incomelevels\n",
    "income_category = mean_gdp_by_country.withColumn(\"IncomeLevel\",\n",
    "    when(col(\"`Mean GDP`\") <= 1897.289, \"Low income\")\n",
    "    .when((col(\"`Mean GDP`\") > 1897.289) & (col(\"`Mean GDP`\") <= 6464.184), \"Lower middle income\")\n",
    "    .when((col(\"`Mean GDP`\") > 6464.184) & (col(\"`Mean GDP`\") <= 15324.779), \"Upper middle income\")\n",
    "    .otherwise(\"High income\")\n",
    ")\n",
    "\n",
    "death_gdp_df = death_df.join(income_category, death_df[\"Entity\"] \\\n",
    "                             == income_category[\"Entity\"], how='inner').drop(income_category[\"Entity\"])\n",
    "\n",
    "wash_df = wash_df.withColumnRenamed(\"Region\", \"IncomeLevel\")\n",
    "\n",
    "final_df = wash_df.join(death_gdp_df, on=['Year', 'IncomeLevel'], how='inner')\n",
    "\n",
    "from pyspark.sql.types import IntegerType, DoubleType\n",
    "\n",
    "final_df = (final_df.withColumn(\"Year\", final_df[\"Year\"].cast(IntegerType()))\n",
    "                   .withColumn(\"Coverage\", final_df[\"Coverage\"].cast(DoubleType()))\n",
    "                   .withColumn(\"MortalityRate\", final_df[\"MortalityRate\"].cast(DoubleType()))\n",
    "                   .withColumn(\"Population\", final_df[\"Population\"].cast(DoubleType()))\n",
    "                   .withColumn(\"Mean GDP\", final_df[\"Mean GDP\"].cast(DoubleType())))\n",
    "\n",
    "from pyspark.sql.functions import col, when\n",
    "\n",
    "final_df = final_df.withColumn(\"IncomeLevel\", \n",
    "                               when(col(\"IncomeLevel\") == \"Lower middle income\", 1)\n",
    "                               .when(col(\"IncomeLevel\") == \"Upper middle income\", 2)\n",
    "                               .when(col(\"IncomeLevel\") == \"High income\", 3)\n",
    "                               .when(col(\"IncomeLevel\") == \"Low income\", 0)\n",
    "                               .otherwise(col(\"IncomeLevel\")))\n",
    "\n",
    "final_df = final_df.withColumn(\"Service Type\", \n",
    "                               when(col(\"Service Type\") == \"Sanitation\", 1)\n",
    "                               .when(col(\"Service Type\") == \"Drinking water\", 2)\n",
    "                               .otherwise(col(\"Service Type\")))\n",
    "\n",
    "final_df = final_df.withColumn(\"Residence Type\", \n",
    "                               when(col(\"Residence Type\") == \"total\", 1)\n",
    "                               .when(col(\"Residence Type\") == \"rural\", 2)\n",
    "                               .when(col(\"Residence Type\") == \"urban\", 3)\n",
    "                               .otherwise(col(\"Residence Type\")))\n",
    "\n",
    "final_df = final_df.withColumn(\"Facility type\", \n",
    "                               when(col(\"Facility type\") == \"Improved latrine and other\", 1)\n",
    "                               .when(col(\"Facility type\") == \"Septic tank\", 2)\n",
    "                               .when(col(\"Facility type\") == \"Sewer\", 3)\n",
    "                               .when(col(\"Facility type\") == \"Non-piped improved\", 4)\n",
    "                               .when(col(\"Facility type\") == \"Piped improved\", 5)\n",
    "                               .otherwise(col(\"Facility type\")))\n",
    "\n",
    "final_df = (final_df.withColumn(\"IncomeLevel\", final_df[\"IncomeLevel\"].cast(IntegerType()))\n",
    "                   .withColumn(\"Residence Type\", final_df[\"Residence Type\"].cast(IntegerType()))\n",
    "                   .withColumn(\"Service Type\", final_df[\"Service Type\"].cast(IntegerType()))\n",
    "                   .withColumn(\"Facility type\", final_df[\"Facility type\"].cast(IntegerType()))\n",
    "           )"
   ]
  },
  {
   "cell_type": "code",
   "execution_count": 3,
   "id": "29630819",
   "metadata": {},
   "outputs": [
    {
     "name": "stdout",
     "output_type": "stream",
     "text": [
      "root\n",
      " |-- Year: integer (nullable = true)\n",
      " |-- IncomeLevel: integer (nullable = true)\n",
      " |-- Residence Type: integer (nullable = true)\n",
      " |-- Service Type: integer (nullable = true)\n",
      " |-- Coverage: double (nullable = true)\n",
      " |-- Population: double (nullable = true)\n",
      " |-- Facility type: integer (nullable = true)\n",
      " |-- Entity: string (nullable = true)\n",
      " |-- MortalityRate: double (nullable = true)\n",
      " |-- Mean GDP: double (nullable = true)\n",
      "\n"
     ]
    }
   ],
   "source": [
    "final_df.printSchema()"
   ]
  },
  {
   "cell_type": "markdown",
   "id": "7ab9edfc",
   "metadata": {},
   "source": [
    "## Spark Formatting Data"
   ]
  },
  {
   "cell_type": "code",
   "execution_count": 4,
   "id": "4da9073f",
   "metadata": {},
   "outputs": [
    {
     "name": "stdout",
     "output_type": "stream",
     "text": [
      "root\n",
      " |-- Year: integer (nullable = true)\n",
      " |-- IncomeLevel: integer (nullable = true)\n",
      " |-- Residence Type: integer (nullable = true)\n",
      " |-- Service Type: integer (nullable = true)\n",
      " |-- Coverage: double (nullable = true)\n",
      " |-- Population: double (nullable = true)\n",
      " |-- Facility type: integer (nullable = true)\n",
      " |-- Entity: string (nullable = true)\n",
      " |-- MortalityRate: double (nullable = true)\n",
      " |-- Mean GDP: double (nullable = true)\n",
      " |-- features: vector (nullable = true)\n",
      "\n"
     ]
    }
   ],
   "source": [
    "from pyspark.ml.linalg import Vectors\n",
    "from pyspark.ml.feature import VectorAssembler\n",
    "feature_cols = ['Coverage','IncomeLevel','MortalityRate','Residence Type','Facility type']\n",
    "\n",
    "assembler = VectorAssembler(inputCols=feature_cols, outputCol=\"features\")\n",
    "final_spk = assembler.transform(final_df)\n",
    "final_spk.printSchema()"
   ]
  },
  {
   "cell_type": "code",
   "execution_count": 5,
   "id": "5a6ef94b",
   "metadata": {},
   "outputs": [
    {
     "name": "stderr",
     "output_type": "stream",
     "text": [
      "\r",
      "[Stage 6:>                                                          (0 + 1) / 1]\r"
     ]
    },
    {
     "name": "stdout",
     "output_type": "stream",
     "text": [
      "+--------------------+-----------------+\n",
      "|            features|    MortalityRate|\n",
      "+--------------------+-----------------+\n",
      "|[69.4499435424804...|7.417001601308584|\n",
      "|[22.6206798553466...|7.417001601308584|\n",
      "|[38.1135101318359...|7.417001601308584|\n",
      "|[24.0316905975341...|7.417001601308584|\n",
      "|[43.2337989807128...|7.417001601308584|\n",
      "|[36.8950500488281...|7.417001601308584|\n",
      "|[16.1666393280029...|7.417001601308584|\n",
      "|[2.22553992271423...|7.417001601308584|\n",
      "|[6.84026002883911...|7.417001601308584|\n",
      "|[14.1804399490356...|7.417001601308584|\n",
      "|[2.72841000556945...|7.417001601308584|\n",
      "|[6.51758003234863...|7.417001601308584|\n",
      "|[39.3636093139648...|7.417001601308584|\n",
      "|[24.8787498474121...|7.417001601308584|\n",
      "|[29.6881599426269...|7.417001601308584|\n",
      "|[69.1036834716796...|7.417001601308584|\n",
      "|[21.9623699188232...|7.417001601308584|\n",
      "|[37.3481788635253...|7.417001601308584|\n",
      "|[23.8663291931152...|7.417001601308584|\n",
      "|[42.3547210693359...|7.417001601308584|\n",
      "+--------------------+-----------------+\n",
      "only showing top 20 rows\n",
      "\n"
     ]
    },
    {
     "name": "stderr",
     "output_type": "stream",
     "text": [
      "\r",
      "                                                                                \r"
     ]
    }
   ],
   "source": [
    "final_data = final_spk.select(\"features\",'MortalityRate')\n",
    "final_data.show()"
   ]
  },
  {
   "cell_type": "code",
   "execution_count": 6,
   "id": "54e01522",
   "metadata": {},
   "outputs": [],
   "source": [
    "train_data,test_data = final_data.randomSplit([0.8,0.2])"
   ]
  },
  {
   "cell_type": "code",
   "execution_count": 7,
   "id": "e8016b92",
   "metadata": {},
   "outputs": [
    {
     "name": "stderr",
     "output_type": "stream",
     "text": [
      "                                                                                \r"
     ]
    },
    {
     "name": "stdout",
     "output_type": "stream",
     "text": [
      "+-------+-------------------+\n",
      "|summary|      MortalityRate|\n",
      "+-------+-------------------+\n",
      "|  count|              18291|\n",
      "|   mean| 1.6314203507208174|\n",
      "| stddev|   2.25300450811116|\n",
      "|    min|6.19291327893734E-4|\n",
      "|    max|  7.417001601308584|\n",
      "+-------+-------------------+\n",
      "\n",
      "+-------+-------------------+\n",
      "|summary|      MortalityRate|\n",
      "+-------+-------------------+\n",
      "|  count|               4389|\n",
      "|   mean| 1.6296696137060207|\n",
      "| stddev| 2.2291505491993147|\n",
      "|    min|6.19291327893734E-4|\n",
      "|    max|  7.417001601308584|\n",
      "+-------+-------------------+\n",
      "\n"
     ]
    }
   ],
   "source": [
    "# Let's see our training data.\n",
    "train_data.describe().show()\n",
    "\n",
    "# And our testing data.\n",
    "test_data.describe().show()"
   ]
  },
  {
   "cell_type": "code",
   "execution_count": 8,
   "id": "7ea09179",
   "metadata": {},
   "outputs": [
    {
     "name": "stderr",
     "output_type": "stream",
     "text": [
      "23/10/09 14:31:32 WARN InstanceBuilder$NativeBLAS: Failed to load implementation from:dev.ludovic.netlib.blas.JNIBLAS\n",
      "23/10/09 14:31:32 WARN InstanceBuilder$NativeBLAS: Failed to load implementation from:dev.ludovic.netlib.blas.ForeignLinkerBLAS\n",
      "23/10/09 14:31:33 WARN InstanceBuilder$NativeLAPACK: Failed to load implementation from:dev.ludovic.netlib.lapack.JNILAPACK\n"
     ]
    },
    {
     "name": "stdout",
     "output_type": "stream",
     "text": [
      "Coefficients: [-1.4450546766994433e-05,-0.019868455261159223,0.9887716063623679,6.503053437211121e-06,0.00013537631816660302] Intercept: 0.058310707740846464\n"
     ]
    },
    {
     "name": "stderr",
     "output_type": "stream",
     "text": [
      "\r",
      "[Stage 37:>                                                         (0 + 1) / 1]\r",
      "\r",
      "                                                                                \r"
     ]
    }
   ],
   "source": [
    "lr = LinearRegression(labelCol='MortalityRate',regParam=0.01)\n",
    "lrModel = lr.fit(train_data)\n",
    "print(\"Coefficients: {} Intercept: {}\".format(lrModel.coefficients,lrModel.intercept))"
   ]
  },
  {
   "cell_type": "code",
   "execution_count": 9,
   "id": "09c6a077",
   "metadata": {},
   "outputs": [],
   "source": [
    "test_results = lrModel.evaluate(test_data)"
   ]
  },
  {
   "cell_type": "code",
   "execution_count": 10,
   "id": "4ffdcb25",
   "metadata": {},
   "outputs": [
    {
     "name": "stderr",
     "output_type": "stream",
     "text": [
      "/home/ubuntu/spark-3.2.1-bin-hadoop2.7/python/pyspark/sql/context.py:125: FutureWarning: Deprecated in 3.0.0. Use SparkSession.builder.getOrCreate() instead.\n",
      "  warnings.warn(\n"
     ]
    },
    {
     "name": "stdout",
     "output_type": "stream",
     "text": [
      "+--------------------+\n",
      "|           residuals|\n",
      "+--------------------+\n",
      "|7.897067216802167E-4|\n",
      "|8.004807127642496E-4|\n",
      "|8.546901787016281E-4|\n",
      "|  8.6409685735888E-4|\n",
      "|9.385373708705874E-4|\n",
      "|9.523609436872041E-4|\n",
      "|0.001022223824550...|\n",
      "|0.001134545550941...|\n",
      "|0.002019557848104092|\n",
      "|0.002223112360906...|\n",
      "|0.016813714398783874|\n",
      "|8.104360024384985E-4|\n",
      "|8.202197227064612E-4|\n",
      "|8.919287955992117E-4|\n",
      "|9.311246947625515E-4|\n",
      "|9.684609904648395E-4|\n",
      "|9.877825495293452E-4|\n",
      "|0.001026305200063804|\n",
      "|0.001032035421063407|\n",
      "|0.001303327377350...|\n",
      "+--------------------+\n",
      "only showing top 20 rows\n",
      "\n",
      "RSME: 0.015571922178768976\n"
     ]
    }
   ],
   "source": [
    "test_results.residuals.show()\n",
    "\n",
    "# Let's get some evaluation metrics (as discussed in the previous linear regression notebook).\n",
    "print(\"RSME: {}\".format(test_results.rootMeanSquaredError))"
   ]
  },
  {
   "cell_type": "code",
   "execution_count": 11,
   "id": "af073f28",
   "metadata": {},
   "outputs": [
    {
     "name": "stdout",
     "output_type": "stream",
     "text": [
      "R2: 0.9999511904716819\n"
     ]
    }
   ],
   "source": [
    "# We can also get the R2 value. \n",
    "print(\"R2: {}\".format(test_results.r2))"
   ]
  },
  {
   "cell_type": "code",
   "execution_count": 12,
   "id": "c9458c34",
   "metadata": {},
   "outputs": [
    {
     "name": "stdout",
     "output_type": "stream",
     "text": [
      "P-values for each coefficient and intercept:  [0.002213573675013736, 0.0, 0.0, 0.963582383717914, 0.16112535036961173, 0.0]\n"
     ]
    }
   ],
   "source": [
    "print(\"P-values for each coefficient and intercept: \", lrModel.summary.pValues)"
   ]
  },
  {
   "cell_type": "code",
   "execution_count": 13,
   "id": "a0909448",
   "metadata": {},
   "outputs": [
    {
     "data": {
      "image/png": "[encoded data removed]",
      "text/plain": [
       "<Figure size 864x432 with 1 Axes>"
      ]
     },
     "metadata": {
      "needs_background": "light"
     },
     "output_type": "display_data"
    }
   ],
   "source": [
    "import matplotlib.pyplot as plt\n",
    "predictions = lrModel.transform(test_data)\n",
    "pdf = predictions.select(\"MortalityRate\", \"prediction\").toPandas()\n",
    "\n",
    "# Plotting\n",
    "plt.figure(figsize=(12, 6))\n",
    "plt.scatter(pdf[\"MortalityRate\"], pdf[\"prediction\"], alpha=0.5)\n",
    "plt.xlabel(\"Actual Values\")\n",
    "plt.ylabel(\"Predicted Values\")\n",
    "plt.title(\"Actual vs Predicted Values\")\n",
    "plt.plot([min(pdf[\"MortalityRate\"]), max(pdf[\"MortalityRate\"])], [min(pdf[\"MortalityRate\"]), max(pdf[\"MortalityRate\"])], color='red') # y=x line\n",
    "plt.show()"
   ]
  },
  {
   "cell_type": "code",
   "execution_count": 15,
   "id": "d60976a9",
   "metadata": {},
   "outputs": [],
   "source": [
    "feature_cols = ['Coverage','IncomeLevel','Residence Type','Facility type']\n",
    "\n",
    "assembler = VectorAssembler(inputCols=feature_cols, outputCol=\"features\")\n",
    "final_spk = assembler.transform(final_df)"
   ]
  },
  {
   "cell_type": "code",
   "execution_count": 16,
   "id": "addf73ae",
   "metadata": {},
   "outputs": [],
   "source": [
    "lr2 = LinearRegression(labelCol='MortalityRate',regParam=0.01)\n",
    "lrModel2 = lr2.fit(train_data)"
   ]
  },
  {
   "cell_type": "code",
   "execution_count": 20,
   "id": "1f0407f1",
   "metadata": {},
   "outputs": [
    {
     "name": "stdout",
     "output_type": "stream",
     "text": [
      "RSME of lr2: 0.015571922178768976\n",
      "R2 of lr2: 0.9999511904716819\n"
     ]
    }
   ],
   "source": [
    "test_results = lrModel2.evaluate(test_data)\n",
    "print(\"RSME of lr2: {}\".format(test_results.rootMeanSquaredError))\n",
    "print(\"R2 of lr2: {}\".format(test_results.r2))"
   ]
  },
  {
   "cell_type": "code",
   "execution_count": 21,
   "id": "ca3918ce",
   "metadata": {},
   "outputs": [],
   "source": [
    "feature_cols = ['Coverage','IncomeLevel','Facility type']\n",
    "\n",
    "assembler = VectorAssembler(inputCols=feature_cols, outputCol=\"features\")\n",
    "final_spk = assembler.transform(final_df)"
   ]
  },
  {
   "cell_type": "code",
   "execution_count": 22,
   "id": "39560675",
   "metadata": {},
   "outputs": [],
   "source": [
    "lr3 = LinearRegression(labelCol='MortalityRate',regParam=0.01)\n",
    "lrModel3 = lr3.fit(train_data)"
   ]
  },
  {
   "cell_type": "code",
   "execution_count": 28,
   "id": "6d565a89",
   "metadata": {},
   "outputs": [
    {
     "name": "stdout",
     "output_type": "stream",
     "text": [
      "RSME of lr3: 0.015571922178768976\n",
      "R2 of lr3: 0.9999511904716819\n"
     ]
    }
   ],
   "source": [
    "test_results = lrModel3.evaluate(test_data)\n",
    "print(\"RSME of lr3: {}\".format(test_results.rootMeanSquaredError))\n",
    "print(\"R2 of lr3: {}\".format(test_results.r2))"
   ]
  },
  {
   "cell_type": "code",
   "execution_count": 25,
   "id": "781f505d",
   "metadata": {},
   "outputs": [],
   "source": [
    "feature_cols = ['IncomeLevel','Facility type']\n",
    "\n",
    "assembler = VectorAssembler(inputCols=feature_cols, outputCol=\"features\")\n",
    "final_spk = assembler.transform(final_df)"
   ]
  },
  {
   "cell_type": "code",
   "execution_count": 30,
   "id": "ab91a642",
   "metadata": {},
   "outputs": [],
   "source": [
    "lr4 = LinearRegression(labelCol='MortalityRate',regParam=0.01)\n",
    "lrModel4 = lr4.fit(train_data)"
   ]
  },
  {
   "cell_type": "code",
   "execution_count": 32,
   "id": "03f43de3",
   "metadata": {},
   "outputs": [
    {
     "name": "stdout",
     "output_type": "stream",
     "text": [
      "RSME of lr4: 0.015571922178768976\n",
      "R2 of lr4: 0.9999511904716819\n"
     ]
    }
   ],
   "source": [
    "test_results = lrModel4.evaluate(test_data)\n",
    "print(\"RSME of lr4: {}\".format(test_results.rootMeanSquaredError))\n",
    "print(\"R2 of lr4: {}\".format(test_results.r2))"
   ]
  },
  {
   "cell_type": "code",
   "execution_count": null,
   "id": "7481d92b",
   "metadata": {},
   "outputs": [],
   "source": []
  }
 ],
 "metadata": {
  "kernelspec": {
   "display_name": "Python 3 (ipykernel)",
   "language": "python",
   "name": "python3"
  },
  "language_info": {
   "codemirror_mode": {
    "name": "ipython",
    "version": 3
   },
   "file_extension": ".py",
   "mimetype": "text/x-python",
   "name": "python",
   "nbconvert_exporter": "python",
   "pygments_lexer": "ipython3",
   "version": "3.10.12"
  }
 },
 "nbformat": 4,
 "nbformat_minor": 5
}
