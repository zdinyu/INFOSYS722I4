{
 "cells": [
  {
   "cell_type": "code",
   "execution_count": 1,
   "id": "f28b5a5f",
   "metadata": {},
   "outputs": [
    {
     "name": "stderr",
     "output_type": "stream",
     "text": [
      "WARNING: An illegal reflective access operation has occurred\n",
      "WARNING: Illegal reflective access by org.apache.spark.unsafe.Platform (file:/home/ubuntu/spark-3.2.1-bin-hadoop2.7/jars/spark-unsafe_2.12-3.2.1.jar) to constructor java.nio.DirectByteBuffer(long,int)\n",
      "WARNING: Please consider reporting this to the maintainers of org.apache.spark.unsafe.Platform\n",
      "WARNING: Use --illegal-access=warn to enable warnings of further illegal reflective access operations\n",
      "WARNING: All illegal access operations will be denied in a future release\n",
      "Using Spark's default log4j profile: org/apache/spark/log4j-defaults.properties\n",
      "Setting default log level to \"WARN\".\n",
      "To adjust logging level use sc.setLogLevel(newLevel). For SparkR, use setLogLevel(newLevel).\n",
      "23/10/08 07:00:41 WARN NativeCodeLoader: Unable to load native-hadoop library for your platform... using builtin-java classes where applicable\n"
     ]
    }
   ],
   "source": [
    "# Must be included at the beginning of each new notebook. Remember to change the app name.\n",
    "import findspark\n",
    "findspark.init('/home/ubuntu/spark-3.2.1-bin-hadoop2.7')\n",
    "import pyspark\n",
    "from pyspark.sql import SparkSession\n",
    "spark = SparkSession.builder.appName('linear_regression_adv').getOrCreate()\n",
    "\n",
    "# If you're getting an error with numpy, please type 'sudo pip install numpy --user' into the EC2 console.\n",
    "from pyspark.ml.regression import LinearRegression"
   ]
  },
  {
   "cell_type": "code",
   "execution_count": 2,
   "id": "cab6e88a",
   "metadata": {},
   "outputs": [
    {
     "name": "stderr",
     "output_type": "stream",
     "text": [
      "                                                                                \r"
     ]
    }
   ],
   "source": [
    "# data processing from section 03\n",
    "from pyspark.sql.types import (StructField,StringType,IntegerType,FloatType,StructType)\n",
    "data_schema = [StructField('Entity',StringType(),True),\n",
    "              StructField('Code',StringType(),True),\n",
    "              StructField('Year',IntegerType(),True),\n",
    "              StructField('Share of total deaths that are from all causes attributed to unsafe water source, in both sexes aged age-standardized',FloatType(),True)]\n",
    "final_struct = StructType(fields=data_schema)\n",
    "death_df = spark.read.csv(\"unsafewaterdeathrate.csv\",schema=final_struct,header=True)\n",
    "\n",
    "data_schema = [StructField('Entity',StringType(),True),\n",
    "              StructField('Code',StringType(),True),\n",
    "              StructField('Year',IntegerType(),True),\n",
    "              StructField('GDP per capita, PPP (constant 2017 international $)',FloatType(),True)]\n",
    "final_struct = StructType(fields=data_schema)\n",
    "gdp_df = spark.read.csv(\"gdp-per-capita-worldbank.csv\",schema=final_struct,header=True)\n",
    "\n",
    "data_schema = [StructField('Type',StringType(),True),\n",
    "              StructField('Region',StringType(),True),\n",
    "              StructField(\"Residence Type\",StringType(),True),\n",
    "              StructField(\"Service Type\",StringType(),True),\n",
    "              StructField('Year',IntegerType(),True),\n",
    "              StructField('Coverage',FloatType(),True),\n",
    "              StructField('Population',FloatType(),True),\n",
    "              StructField('Facility type',StringType(),True)]\n",
    "final_struct = StructType(fields=data_schema)\n",
    "wash_df = spark.read.csv(\"WASH.csv\",schema=final_struct,header=True)\n",
    "\n",
    "wash_df = wash_df.drop('Type')\n",
    "death_df = death_df.drop('Code')\n",
    "\n",
    "from pyspark.sql.functions import col, when\n",
    "from pyspark.sql.types import IntegerType, FloatType, DoubleType\n",
    "\n",
    "numeric_cols = [f.name for f in wash_df.schema.fields if isinstance(f.dataType, (DoubleType, IntegerType, FloatType))]\n",
    "\n",
    "# Identify numeric columns\n",
    "numeric_cols = [f.name for f in wash_df.schema.fields if isinstance(f.dataType, (DoubleType, IntegerType, FloatType))]\n",
    "\n",
    "for column in numeric_cols:\n",
    "    Q1, Q3 = wash_df.approxQuantile(column, [0.25, 0.75], 0.05)\n",
    "    IQR = Q3 - Q1\n",
    "    lower_bound = Q1 - 1.5 * IQR\n",
    "    upper_bound = Q3 + 1.5 * IQR\n",
    "\n",
    "    # Coerce outliers using withColumn and when\n",
    "    wash_df = wash_df.withColumn(column, \n",
    "                                 when(col(column) > upper_bound, upper_bound)\n",
    "                                 .when(col(column) < lower_bound, lower_bound)\n",
    "                                 .otherwise(col(column)))\n",
    "    \n",
    "Q1, Q3 = death_df.approxQuantile('Share of total deaths that are from all causes attributed to unsafe water source, in both sexes aged age-standardized', [0.25, 0.75], 0.05)\n",
    "IQR = Q3 - Q1\n",
    "\n",
    "# Define bounds for outliers\n",
    "lower_bound = Q1 - 1.5 * IQR\n",
    "upper_bound = Q3 + 1.5 * IQR\n",
    "\n",
    "# Replace outliers with closest point\n",
    "death_df = death_df.withColumn ('Share of total deaths that are from all causes attributed to unsafe water source, in both sexes aged age-standardized', \n",
    "                               when(col('Share of total deaths that are from all causes attributed to unsafe water source, in both sexes aged age-standardized') < lower_bound, lower_bound)\n",
    "                               .when(col('Share of total deaths that are from all causes attributed to unsafe water source, in both sexes aged age-standardized') > upper_bound, upper_bound)\n",
    "                               .otherwise(col('Share of total deaths that are from all causes attributed to unsafe water source, in both sexes aged age-standardized')))\n",
    "\n",
    "# filter irrelevant years\n",
    "wash_df = wash_df.filter((col('Year') >= 2012) & (col('Year') <= 2019))\n",
    "death_df = death_df.filter((col('Year') >= 2012) & (col('Year') <= 2019))\n",
    "death_df = death_df.withColumnRenamed('Share of total deaths that are from all causes attributed to unsafe water source, in both sexes aged age-standardized', 'MortalityRate')\n",
    "gdp_df = gdp_df.filter((col('Year') >= 2012) & (col('Year') <= 2019))\n",
    "\n",
    "# compute the mean gdp by country\n",
    "from pyspark.sql.functions import avg\n",
    "mean_gdp_by_country = gdp_df.groupBy('Entity').agg(avg('GDP per capita, PPP (constant 2017 international $)')\\\n",
    "                                                   .alias('Mean GDP'))\n",
    "# convert into incomelevels\n",
    "income_category = mean_gdp_by_country.withColumn(\"IncomeLevel\",\n",
    "    when(col(\"`Mean GDP`\") <= 1897.289, \"Low income\")\n",
    "    .when((col(\"`Mean GDP`\") > 1897.289) & (col(\"`Mean GDP`\") <= 6464.184), \"Lower middle income\")\n",
    "    .when((col(\"`Mean GDP`\") > 6464.184) & (col(\"`Mean GDP`\") <= 15324.779), \"Upper middle income\")\n",
    "    .otherwise(\"High income\")\n",
    ")\n",
    "\n",
    "death_gdp_df = death_df.join(income_category, death_df[\"Entity\"] \\\n",
    "                             == income_category[\"Entity\"], how='inner').drop(income_category[\"Entity\"])\n",
    "\n",
    "wash_df = wash_df.withColumnRenamed(\"Region\", \"IncomeLevel\")\n",
    "\n",
    "final_df = wash_df.join(death_gdp_df, on=['Year', 'IncomeLevel'], how='inner')\n",
    "\n",
    "from pyspark.sql.types import IntegerType, DoubleType\n",
    "\n",
    "final_df = (final_df.withColumn(\"Year\", final_df[\"Year\"].cast(IntegerType()))\n",
    "                   .withColumn(\"Coverage\", final_df[\"Coverage\"].cast(DoubleType()))\n",
    "                   .withColumn(\"MortalityRate\", final_df[\"MortalityRate\"].cast(DoubleType()))\n",
    "                   .withColumn(\"Population\", final_df[\"Population\"].cast(DoubleType()))\n",
    "                   .withColumn(\"Mean GDP\", final_df[\"Mean GDP\"].cast(DoubleType())))\n",
    "\n",
    "from pyspark.sql.functions import col, when\n",
    "\n",
    "final_df = final_df.withColumn(\"IncomeLevel\", \n",
    "                               when(col(\"IncomeLevel\") == \"Lower middle income\", 1)\n",
    "                               .when(col(\"IncomeLevel\") == \"Upper middle income\", 2)\n",
    "                               .when(col(\"IncomeLevel\") == \"High income\", 3)\n",
    "                               .when(col(\"IncomeLevel\") == \"Low income\", 0)\n",
    "                               .otherwise(col(\"IncomeLevel\")))\n",
    "\n",
    "final_df = final_df.withColumn(\"Service Type\", \n",
    "                               when(col(\"Service Type\") == \"Sanitation\", 1)\n",
    "                               .when(col(\"Service Type\") == \"Drinking water\", 2)\n",
    "                               .otherwise(col(\"Service Type\")))\n",
    "\n",
    "final_df = final_df.withColumn(\"Residence Type\", \n",
    "                               when(col(\"Residence Type\") == \"total\", 1)\n",
    "                               .when(col(\"Residence Type\") == \"rural\", 2)\n",
    "                               .when(col(\"Residence Type\") == \"urban\", 3)\n",
    "                               .otherwise(col(\"Residence Type\")))\n",
    "\n",
    "final_df = final_df.withColumn(\"Facility type\", \n",
    "                               when(col(\"Facility type\") == \"Improved latrine and other\", 1)\n",
    "                               .when(col(\"Facility type\") == \"Septic tank\", 2)\n",
    "                               .when(col(\"Facility type\") == \"Sewer\", 3)\n",
    "                               .when(col(\"Facility type\") == \"Non-piped improved\", 4)\n",
    "                               .when(col(\"Facility type\") == \"Piped improved\", 5)\n",
    "                               .otherwise(col(\"Facility type\")))\n",
    "\n",
    "final_df = (final_df.withColumn(\"IncomeLevel\", final_df[\"IncomeLevel\"].cast(IntegerType()))\n",
    "                   .withColumn(\"Residence Type\", final_df[\"Residence Type\"].cast(IntegerType()))\n",
    "                   .withColumn(\"Service Type\", final_df[\"Service Type\"].cast(IntegerType()))\n",
    "                   .withColumn(\"Facility type\", final_df[\"Facility type\"].cast(IntegerType()))\n",
    "           )"
   ]
  },
  {
   "cell_type": "markdown",
   "id": "f5723f18",
   "metadata": {},
   "source": [
    "### Use Linear Regression to explore the important features"
   ]
  },
  {
   "cell_type": "code",
   "execution_count": 3,
   "id": "fe46a33d",
   "metadata": {},
   "outputs": [
    {
     "name": "stdout",
     "output_type": "stream",
     "text": [
      "root\n",
      " |-- Year: integer (nullable = true)\n",
      " |-- IncomeLevel: integer (nullable = true)\n",
      " |-- Residence Type: integer (nullable = true)\n",
      " |-- Service Type: integer (nullable = true)\n",
      " |-- Coverage: double (nullable = true)\n",
      " |-- Population: double (nullable = true)\n",
      " |-- Facility type: integer (nullable = true)\n",
      " |-- Entity: string (nullable = true)\n",
      " |-- MortalityRate: double (nullable = true)\n",
      " |-- Mean GDP: double (nullable = true)\n",
      "\n"
     ]
    }
   ],
   "source": [
    "final_df.printSchema()"
   ]
  },
  {
   "cell_type": "code",
   "execution_count": 4,
   "id": "34bd2f18",
   "metadata": {},
   "outputs": [
    {
     "name": "stdout",
     "output_type": "stream",
     "text": [
      "root\n",
      " |-- Year: integer (nullable = true)\n",
      " |-- IncomeLevel: integer (nullable = true)\n",
      " |-- Residence Type: integer (nullable = true)\n",
      " |-- Service Type: integer (nullable = true)\n",
      " |-- Coverage: double (nullable = true)\n",
      " |-- Population: double (nullable = true)\n",
      " |-- Facility type: integer (nullable = true)\n",
      " |-- Entity: string (nullable = true)\n",
      " |-- MortalityRate: double (nullable = true)\n",
      " |-- Mean GDP: double (nullable = true)\n",
      " |-- features: vector (nullable = true)\n",
      "\n"
     ]
    }
   ],
   "source": [
    "from pyspark.ml.linalg import Vectors\n",
    "from pyspark.ml.feature import VectorAssembler\n",
    "feature_cols = ['Year', 'IncomeLevel', 'Residence Type', 'Service Type', 'Coverage', 'Population', 'Facility type', 'Mean GDP']\n",
    "\n",
    "assembler = VectorAssembler(inputCols=feature_cols, outputCol=\"features\")\n",
    "final_df = assembler.transform(final_df)\n",
    "final_df.printSchema()"
   ]
  },
  {
   "cell_type": "code",
   "execution_count": 5,
   "id": "8281fd28",
   "metadata": {},
   "outputs": [
    {
     "name": "stderr",
     "output_type": "stream",
     "text": [
      "23/10/08 07:01:06 WARN InstanceBuilder$NativeBLAS: Failed to load implementation from:dev.ludovic.netlib.blas.JNIBLAS\n",
      "23/10/08 07:01:06 WARN InstanceBuilder$NativeBLAS: Failed to load implementation from:dev.ludovic.netlib.blas.ForeignLinkerBLAS\n",
      "23/10/08 07:01:07 WARN InstanceBuilder$NativeLAPACK: Failed to load implementation from:dev.ludovic.netlib.lapack.JNILAPACK\n",
      "                                                                                \r"
     ]
    }
   ],
   "source": [
    "from pyspark.ml.regression import LinearRegression\n",
    "lr = LinearRegression(featuresCol=\"features\", labelCol=\"MortalityRate\",regParam=0.01)\n",
    "lr_model = lr.fit(final_df)"
   ]
  },
  {
   "cell_type": "code",
   "execution_count": 6,
   "id": "a84d72ef",
   "metadata": {},
   "outputs": [
    {
     "data": {
      "text/plain": [
       "[1.176836406102666e-14,\n",
       " 0.0,\n",
       " 0.0,\n",
       " 0.5127464608379315,\n",
       " 0.0,\n",
       " 0.0,\n",
       " 0.8199779262115485,\n",
       " 0.0002241553845530042,\n",
       " 0.0]"
      ]
     },
     "execution_count": 6,
     "metadata": {},
     "output_type": "execute_result"
    }
   ],
   "source": [
    "lr_summary = lr_model.summary\n",
    "p_values = lr_summary.pValues\n",
    "p_values"
   ]
  },
  {
   "cell_type": "code",
   "execution_count": 7,
   "id": "81b117e1",
   "metadata": {},
   "outputs": [],
   "source": [
    "lr2 = LinearRegression(featuresCol=\"features\", labelCol=\"Coverage\", regParam=0.01) \n",
    "lr_model2 = lr2.fit(final_df)"
   ]
  },
  {
   "cell_type": "code",
   "execution_count": 8,
   "id": "36f17277",
   "metadata": {},
   "outputs": [
    {
     "data": {
      "text/plain": [
       "[0.15288805753499402, 0.0, 0.0, 0.0, 0.0, 0.0, 0.0, 0.0, 0.18734709030673424]"
      ]
     },
     "execution_count": 8,
     "metadata": {},
     "output_type": "execute_result"
    }
   ],
   "source": [
    "lr_summary2 = lr_model2.summary\n",
    "p_values2 = lr_summary2.pValues\n",
    "p_values2"
   ]
  },
  {
   "cell_type": "code",
   "execution_count": 9,
   "id": "04b6d252",
   "metadata": {},
   "outputs": [
    {
     "name": "stderr",
     "output_type": "stream",
     "text": [
      "\r",
      "[Stage 34:>                                                         (0 + 1) / 1]\r",
      "\r",
      "                                                                                \r"
     ]
    },
    {
     "data": {
      "image/png": "[encoded data removed]",
      "text/plain": [
       "<Figure size 432x288 with 1 Axes>"
      ]
     },
     "metadata": {
      "needs_background": "light"
     },
     "output_type": "display_data"
    }
   ],
   "source": [
    "import pandas as pd\n",
    "import matplotlib.pyplot as plt\n",
    "final_pd = final_df.toPandas()\n",
    "final_pd['Service Type'].value_counts().plot(kind='bar')\n",
    "plt.title('Histogram of Service Types (Before Resampling)')\n",
    "plt.xlabel('Service Type')\n",
    "plt.ylabel('Frequency')\n",
    "plt.show()\n"
   ]
  },
  {
   "cell_type": "code",
   "execution_count": 10,
   "id": "1cce0b5f",
   "metadata": {
    "scrolled": true
   },
   "outputs": [
    {
     "name": "stdout",
     "output_type": "stream",
     "text": [
      "+----+-----------+--------------+------------+------------------+------------+-------------+------+-----------------+------------------+--------------------+\n",
      "|Year|IncomeLevel|Residence Type|Service Type|          Coverage|  Population|Facility type|Entity|    MortalityRate|          Mean GDP|            features|\n",
      "+----+-----------+--------------+------------+------------------+------------+-------------+------+-----------------+------------------+--------------------+\n",
      "|2019|          0|             3|           1| 16.16663932800293| 3.4751936E7|            3|  Chad|7.417001601308584|1709.7349700927734|[2019.0,0.0,3.0,1...|\n",
      "|2019|          0|             2|           1|2.2255399227142334|   9654262.0|            3|  Chad|7.417001601308584|1709.7349700927734|[2019.0,0.0,2.0,1...|\n",
      "|2019|          0|             3|           1|14.180439949035645| 3.0482388E7|            2|  Chad|7.417001601308584|1709.7349700927734|[2019.0,0.0,3.0,1...|\n",
      "|2019|          0|             2|           1| 2.728410005569458| 1.1835708E7|            2|  Chad|7.417001601308584|1709.7349700927734|[2019.0,0.0,2.0,1...|\n",
      "|2019|          0|             1|           1| 6.517580032348633| 4.2283184E7|            2|  Chad|7.417001601308584|1709.7349700927734|[2019.0,0.0,1.0,1...|\n",
      "|2019|          0|             2|           1| 24.87874984741211|1.07922664E8|            1|  Chad|7.417001601308584|1709.7349700927734|[2019.0,0.0,2.0,1...|\n",
      "|2019|          0|             1|           1|29.688159942626953|1.92603568E8|            1|  Chad|7.417001601308584|1709.7349700927734|[2019.0,0.0,1.0,1...|\n",
      "|2018|          0|             2|           1| 2.271929979324341|   9647705.0|            3|  Chad|7.417001601308584|1709.7349700927734|[2018.0,0.0,2.0,1...|\n",
      "|2018|          0|             1|           1|6.8785600662231445| 4.3394464E7|            3|  Chad|7.417001601308584|1709.7349700927734|[2018.0,0.0,1.0,1...|\n",
      "|2018|          0|             1|           1| 6.297679901123047| 3.9729924E7|            2|  Chad|7.417001601308584|1709.7349700927734|[2018.0,0.0,1.0,1...|\n",
      "|2018|          0|             3|           1|  39.2081413269043| 8.0854184E7|            1|  Chad|7.417001601308584|1709.7349700927734|[2018.0,0.0,3.0,1...|\n",
      "|2018|          0|             2|           1|24.299379348754883|1.03186832E8|            1|  Chad|7.417001601308584|1709.7349700927734|[2018.0,0.0,2.0,1...|\n",
      "|2018|          0|             1|           1|29.182640075683594| 1.8410328E8|            1|  Chad|7.417001601308584|1709.7349700927734|[2018.0,0.0,1.0,1...|\n",
      "|2017|          0|             2|           1| 2.350950002670288|   9777828.0|            3|  Chad|7.417001601308584|1709.7349700927734|[2017.0,0.0,2.0,1...|\n",
      "|2017|          0|             1|           1| 6.968080043792725| 4.2780332E7|            3|  Chad|7.417001601308584|1709.7349700927734|[2017.0,0.0,1.0,1...|\n",
      "|2017|          0|             3|           1|13.271639823913574| 2.6282866E7|            2|  Chad|7.417001601308584|1709.7349700927734|[2017.0,0.0,3.0,1...|\n",
      "|2017|          0|             3|           1|39.011600494384766| 7.7257736E7|            1|  Chad|7.417001601308584|1709.7349700927734|[2017.0,0.0,3.0,1...|\n",
      "|2017|          0|             2|           1|23.707799911499023| 9.8602856E7|            1|  Chad|7.417001601308584|1709.7349700927734|[2017.0,0.0,2.0,1...|\n",
      "|2017|          0|             1|           1|28.653839111328125|1.75919344E8|            1|  Chad|7.417001601308584|1709.7349700927734|[2017.0,0.0,1.0,1...|\n",
      "|2016|          0|             3|           1|17.034420013427734| 3.2415116E7|            3|  Chad|7.417001601308584|1709.7349700927734|[2016.0,0.0,3.0,1...|\n",
      "+----+-----------+--------------+------------+------------------+------------+-------------+------+-----------------+------------------+--------------------+\n",
      "only showing top 20 rows\n",
      "\n"
     ]
    }
   ],
   "source": [
    "from pyspark.sql import SparkSession\n",
    "\n",
    "spark = SparkSession.builder.appName(\"ResamplingExample\").getOrCreate()\n",
    "df_high = final_df.filter(final_df[\"Service Type\"] == 1)\n",
    "df_low = final_df.filter(final_df[\"Service Type\"] == 2)\n",
    "num_samples_low = df_low.count()\n",
    "\n",
    "df_high_resampled = df_high.sample(fraction=num_samples_low / df_high.count(), seed=123)\n",
    "\n",
    "df_resampled = df_high_resampled.union(df_low)\n",
    "\n",
    "df_resampled.show()\n"
   ]
  },
  {
   "cell_type": "code",
   "execution_count": 11,
   "id": "5adec82d",
   "metadata": {},
   "outputs": [
    {
     "name": "stderr",
     "output_type": "stream",
     "text": [
      "\r",
      "[Stage 60:=============================>                            (1 + 1) / 2]\r",
      "\r",
      "                                                                                \r"
     ]
    },
    {
     "data": {
      "image/png": "[encoded data removed]",
      "text/plain": [
       "<Figure size 432x288 with 1 Axes>"
      ]
     },
     "metadata": {
      "needs_background": "light"
     },
     "output_type": "display_data"
    }
   ],
   "source": [
    "pd_resampled = df_resampled.toPandas()\n",
    "\n",
    "pd_resampled['Service Type'].value_counts().plot(kind='bar')\n",
    "plt.title('Histogram of Service Types (After Resampling)')\n",
    "plt.xlabel('Service Type')\n",
    "plt.ylabel('Frequency')\n",
    "plt.show()"
   ]
  },
  {
   "cell_type": "code",
   "execution_count": 13,
   "id": "59ea794c",
   "metadata": {},
   "outputs": [],
   "source": [
    "from pyspark.ml.regression import LinearRegression\n",
    "lr3 = LinearRegression(featuresCol=\"features\", labelCol=\"MortalityRate\",regParam=0.01)\n",
    "lr_model3 = lr3.fit(final_df)"
   ]
  },
  {
   "cell_type": "code",
   "execution_count": 14,
   "id": "9a0671d2",
   "metadata": {},
   "outputs": [
    {
     "data": {
      "text/plain": [
       "[1.176836406102666e-14,\n",
       " 0.0,\n",
       " 0.0,\n",
       " 0.5127464608379315,\n",
       " 0.0,\n",
       " 0.0,\n",
       " 0.8199779262115485,\n",
       " 0.0002241553845530042,\n",
       " 0.0]"
      ]
     },
     "execution_count": 14,
     "metadata": {},
     "output_type": "execute_result"
    }
   ],
   "source": [
    "lr_summary3 = lr_model3.summary\n",
    "p_values3 = lr_summary3.pValues\n",
    "p_values3"
   ]
  },
  {
   "cell_type": "markdown",
   "id": "fb6288ae",
   "metadata": {},
   "source": [
    "## Data Projection"
   ]
  },
  {
   "cell_type": "code",
   "execution_count": 15,
   "id": "a373ad26",
   "metadata": {},
   "outputs": [
    {
     "data": {
      "image/png": "[encoded data removed]",
      "text/plain": [
       "<Figure size 864x432 with 2 Axes>"
      ]
     },
     "metadata": {
      "needs_background": "light"
     },
     "output_type": "display_data"
    }
   ],
   "source": [
    "final_df_pd = final_df.select('Coverage', 'MortalityRate').toPandas()\n",
    "\n",
    "plt.figure(figsize=(12, 6))\n",
    "\n",
    "# Plot the distribution of 'Coverage'\n",
    "plt.subplot(1, 2, 1)\n",
    "plt.hist(final_df_pd['Coverage'], bins=20, alpha=0.5, color='g', label='Coverage')\n",
    "plt.title('Distribution of Coverage')\n",
    "plt.xlabel('Coverage')\n",
    "plt.ylabel('Frequency')\n",
    "\n",
    "# Plot the distribution of 'MortalityRate'\n",
    "plt.subplot(1, 2, 2)\n",
    "plt.hist(final_df_pd['MortalityRate'], bins=20, alpha=0.5, color='r', label='MortalityRate')\n",
    "plt.title('Distribution of MortalityRate')\n",
    "plt.xlabel('MortalityRate')\n",
    "plt.ylabel('Frequency')\n",
    "plt.tight_layout()\n",
    "plt.show()"
   ]
  },
  {
   "cell_type": "code",
   "execution_count": 17,
   "id": "fe43a10c",
   "metadata": {},
   "outputs": [
    {
     "data": {
      "image/png": "[encoded data removed]",
      "text/plain": [
       "<Figure size 432x288 with 1 Axes>"
      ]
     },
     "metadata": {
      "needs_background": "light"
     },
     "output_type": "display_data"
    }
   ],
   "source": [
    "import numpy as np\n",
    "import matplotlib.pyplot as plt\n",
    "from pyspark.sql.functions import sqrt\n",
    "from pyspark.sql import SparkSession\n",
    "\n",
    "spark = SparkSession.builder.appName(\"DataTransformation\").getOrCreate()\n",
    "\n",
    "final_df_transformed = final_df.withColumn(\"sqrt_Coverage\", sqrt(final_df[\"Coverage\"]))\n",
    "final_df_transformed_pd = final_df_transformed.select(\"sqrt_Coverage\").toPandas()\n",
    "\n",
    "plt.hist(final_df_transformed_pd[\"sqrt_Coverage\"], bins=40)\n",
    "plt.title(\"Distribution of Square Root Transformed Coverage\")\n",
    "plt.xlabel(\"Square Root of Coverage\")\n",
    "plt.ylabel(\"Frequency\")\n",
    "plt.grid(True)\n",
    "plt.show()"
   ]
  },
  {
   "cell_type": "code",
   "execution_count": 20,
   "id": "3c372e50",
   "metadata": {},
   "outputs": [
    {
     "data": {
      "image/png": "[encoded data removed]",
      "text/plain": [
       "<Figure size 432x288 with 1 Axes>"
      ]
     },
     "metadata": {
      "needs_background": "light"
     },
     "output_type": "display_data"
    }
   ],
   "source": [
    "from pyspark.sql.functions import log10\n",
    "\n",
    "final_df_transformed = final_df.withColumn(\"log_MortalityRate\", log10(final_df[\"MortalityRate\"]))\n",
    "\n",
    "final_df_transformed_pd = final_df_transformed.select(\"log_MortalityRate\").toPandas()\n",
    "\n",
    "# Plot the distribution of the log-transformed 'MortalityRate'\n",
    "plt.hist(final_df_transformed_pd[\"log_MortalityRate\"], bins=40)\n",
    "plt.title(\"Distribution of Log Transformed MortalityRate\")\n",
    "plt.xlabel(\"Log of MortalityRate\")\n",
    "plt.ylabel(\"Frequency\")\n",
    "plt.grid(True)\n",
    "plt.show()"
   ]
  },
  {
   "cell_type": "code",
   "execution_count": null,
   "id": "f70e45d4",
   "metadata": {},
   "outputs": [],
   "source": []
  }
 ],
 "metadata": {
  "kernelspec": {
   "display_name": "Python 3 (ipykernel)",
   "language": "python",
   "name": "python3"
  },
  "language_info": {
   "codemirror_mode": {
    "name": "ipython",
    "version": 3
   },
   "file_extension": ".py",
   "mimetype": "text/x-python",
   "name": "python",
   "nbconvert_exporter": "python",
   "pygments_lexer": "ipython3",
   "version": "3.10.12"
  }
 },
 "nbformat": 4,
 "nbformat_minor": 5
}
