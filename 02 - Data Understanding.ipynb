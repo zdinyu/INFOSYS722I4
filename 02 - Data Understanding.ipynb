{
 "cells": [
  {
   "cell_type": "markdown",
   "id": "8ba1977d",
   "metadata": {},
   "source": [
    "# 02 - Data Understanding"
   ]
  },
  {
   "cell_type": "code",
   "execution_count": 1,
   "id": "c97963bc",
   "metadata": {},
   "outputs": [
    {
     "name": "stderr",
     "output_type": "stream",
     "text": [
      "WARNING: An illegal reflective access operation has occurred\n",
      "WARNING: Illegal reflective access by org.apache.spark.unsafe.Platform (file:/home/ubuntu/spark-3.2.1-bin-hadoop2.7/jars/spark-unsafe_2.12-3.2.1.jar) to constructor java.nio.DirectByteBuffer(long,int)\n",
      "WARNING: Please consider reporting this to the maintainers of org.apache.spark.unsafe.Platform\n",
      "WARNING: Use --illegal-access=warn to enable warnings of further illegal reflective access operations\n",
      "WARNING: All illegal access operations will be denied in a future release\n",
      "Using Spark's default log4j profile: org/apache/spark/log4j-defaults.properties\n",
      "Setting default log level to \"WARN\".\n",
      "To adjust logging level use sc.setLogLevel(newLevel). For SparkR, use setLogLevel(newLevel).\n",
      "23/10/01 01:06:11 WARN NativeCodeLoader: Unable to load native-hadoop library for your platform... using builtin-java classes where applicable\n"
     ]
    }
   ],
   "source": [
    "import findspark\n",
    "findspark.init('/home/ubuntu/spark-3.2.1-bin-hadoop2.7')\n",
    "import pyspark\n",
    "from pyspark.sql import SparkSession\n",
    "spark = SparkSession.builder.appName('basics').getOrCreate()"
   ]
  },
  {
   "cell_type": "code",
   "execution_count": 2,
   "id": "6a48db11",
   "metadata": {},
   "outputs": [
    {
     "name": "stderr",
     "output_type": "stream",
     "text": [
      "                                                                                \r"
     ]
    }
   ],
   "source": [
    "# read in data\n",
    "wash_df = spark.read.csv(\"WASH.csv\",header=True)\n",
    "death_df = spark.read.csv(\"unsafewaterdeathrate.csv\",header=True)\n",
    "gdp_df = spark.read.csv(\"gdp-per-capita-worldbank.csv\",header=True)"
   ]
  },
  {
   "cell_type": "code",
   "execution_count": 3,
   "id": "1b3148ea",
   "metadata": {},
   "outputs": [
    {
     "name": "stdout",
     "output_type": "stream",
     "text": [
      "+------+-----------+--------------+--------------+----+--------+---------------+--------------------+\n",
      "|  Type|     Region|Residence Type|  Service Type|Year|Coverage|     Population|       Facility type|\n",
      "+------+-----------+--------------+--------------+----+--------+---------------+--------------------+\n",
      "|income|High income|         total|    Sanitation|2012| 3.16338| 37038978.07131|Improved latrine ...|\n",
      "|income|High income|         rural|    Sanitation|2012| 7.33999| 17285014.10345|Improved latrine ...|\n",
      "|income|High income|         urban|    Sanitation|2012|  1.8344| 17158559.65143|Improved latrine ...|\n",
      "|income|High income|         total|    Sanitation|2012|13.44265|157395356.05516|         Septic tank|\n",
      "|income|High income|         rural|    Sanitation|2012|33.11531| 77983549.58889|         Septic tank|\n",
      "|income|High income|         urban|    Sanitation|2012| 7.74518| 72446427.17412|         Septic tank|\n",
      "|income|High income|         total|    Sanitation|2012|82.65761|967809663.03964|               Sewer|\n",
      "|income|High income|         rural|    Sanitation|2012|57.11532| 134501397.8857|               Sewer|\n",
      "|income|High income|         urban|    Sanitation|2012|90.11413|842904803.83028|               Sewer|\n",
      "|income|High income|         total|Drinking water|2012|  2.0877| 24444185.50476|  Non-piped improved|\n",
      "|income|High income|         rural|Drinking water|2012| 5.96939| 14057374.48529|  Non-piped improved|\n",
      "|income|High income|         urban|Drinking water|2012| 0.92841|  8684094.66973|  Non-piped improved|\n",
      "|income|High income|         total|Drinking water|2012|97.25369|1138710104.5243|      Piped improved|\n",
      "|income|High income|         rural|Drinking water|2012|92.33865|217449167.77821|      Piped improved|\n",
      "|income|High income|         urban|Drinking water|2012|98.67697|922999436.24515|      Piped improved|\n",
      "|income|High income|         total|    Sanitation|2013| 3.06076| 36049434.38297|Improved latrine ...|\n",
      "|income|High income|         rural|    Sanitation|2013|  7.3612| 17288604.00337|Improved latrine ...|\n",
      "|income|High income|         urban|    Sanitation|2013| 1.74713|  16474304.5455|Improved latrine ...|\n",
      "|income|High income|         total|    Sanitation|2013|13.17215|155140739.87364|         Septic tank|\n",
      "|income|High income|         rural|    Sanitation|2013|32.72778| 76864839.00911|         Septic tank|\n",
      "+------+-----------+--------------+--------------+----+--------+---------------+--------------------+\n",
      "only showing top 20 rows\n",
      "\n"
     ]
    },
    {
     "data": {
      "text/plain": [
       "['Type',\n",
       " 'Region',\n",
       " 'Residence Type',\n",
       " 'Service Type',\n",
       " 'Year',\n",
       " 'Coverage',\n",
       " 'Population',\n",
       " 'Facility type']"
      ]
     },
     "execution_count": 3,
     "metadata": {},
     "output_type": "execute_result"
    }
   ],
   "source": [
    "wash_df.show()\n",
    "wash_df.columns"
   ]
  },
  {
   "cell_type": "code",
   "execution_count": 5,
   "id": "2811fb3e",
   "metadata": {},
   "outputs": [
    {
     "name": "stdout",
     "output_type": "stream",
     "text": [
      "+-----------+----+----+---------------------------------------------------------------------------------------------------------------------+\n",
      "|     Entity|Code|Year|Share of total deaths that are from all causes attributed to unsafe water source, in both sexes aged age-standardized|\n",
      "+-----------+----+----+---------------------------------------------------------------------------------------------------------------------+\n",
      "|Afghanistan| AFG|1990|                                                                                                            1.0503434|\n",
      "|Afghanistan| AFG|1991|                                                                                                            1.0454241|\n",
      "|Afghanistan| AFG|1992|                                                                                                            1.0731887|\n",
      "|Afghanistan| AFG|1993|                                                                                                            1.2799127|\n",
      "|Afghanistan| AFG|1994|                                                                                                            1.1872201|\n",
      "|Afghanistan| AFG|1995|                                                                                                            1.3289864|\n",
      "|Afghanistan| AFG|1996|                                                                                                             1.299877|\n",
      "|Afghanistan| AFG|1997|                                                                                                            1.3757354|\n",
      "|Afghanistan| AFG|1998|                                                                                                            1.3842775|\n",
      "|Afghanistan| AFG|1999|                                                                                                             1.484519|\n",
      "|Afghanistan| AFG|2000|                                                                                                            1.4880726|\n",
      "|Afghanistan| AFG|2001|                                                                                                            1.4634138|\n",
      "|Afghanistan| AFG|2002|                                                                                                            1.4035218|\n",
      "|Afghanistan| AFG|2003|                                                                                                            1.5093122|\n",
      "|Afghanistan| AFG|2004|                                                                                                            1.4886155|\n",
      "|Afghanistan| AFG|2005|                                                                                                            1.3961205|\n",
      "|Afghanistan| AFG|2006|                                                                                                            1.2776254|\n",
      "|Afghanistan| AFG|2007|                                                                                                            1.1575379|\n",
      "|Afghanistan| AFG|2008|                                                                                                            1.0345142|\n",
      "|Afghanistan| AFG|2009|                                                                                                            0.9303762|\n",
      "+-----------+----+----+---------------------------------------------------------------------------------------------------------------------+\n",
      "only showing top 20 rows\n",
      "\n"
     ]
    },
    {
     "data": {
      "text/plain": [
       "['Entity',\n",
       " 'Code',\n",
       " 'Year',\n",
       " 'Share of total deaths that are from all causes attributed to unsafe water source, in both sexes aged age-standardized']"
      ]
     },
     "execution_count": 5,
     "metadata": {},
     "output_type": "execute_result"
    }
   ],
   "source": [
    "death_df.show()\n",
    "death_df.columns"
   ]
  },
  {
   "cell_type": "code",
   "execution_count": 6,
   "id": "55724d72",
   "metadata": {},
   "outputs": [
    {
     "name": "stdout",
     "output_type": "stream",
     "text": [
      "+-----------+----+----+---------------------------------------------------+\n",
      "|     Entity|Code|Year|GDP per capita, PPP (constant 2017 international $)|\n",
      "+-----------+----+----+---------------------------------------------------+\n",
      "|Afghanistan| AFG|2002|                                          1280.4631|\n",
      "|Afghanistan| AFG|2003|                                          1292.3335|\n",
      "|Afghanistan| AFG|2004|                                          1260.0605|\n",
      "|Afghanistan| AFG|2005|                                          1352.3207|\n",
      "|Afghanistan| AFG|2006|                                          1366.9932|\n",
      "|Afghanistan| AFG|2007|                                          1528.3446|\n",
      "|Afghanistan| AFG|2008|                                          1556.8445|\n",
      "|Afghanistan| AFG|2009|                                          1823.7426|\n",
      "|Afghanistan| AFG|2010|                                          2026.1638|\n",
      "|Afghanistan| AFG|2011|                                          1961.0963|\n",
      "|Afghanistan| AFG|2012|                                          2122.8308|\n",
      "|Afghanistan| AFG|2013|                                          2165.3408|\n",
      "|Afghanistan| AFG|2014|                                          2144.4497|\n",
      "|Afghanistan| AFG|2015|                                           2108.714|\n",
      "|Afghanistan| AFG|2016|                                           2101.422|\n",
      "|Afghanistan| AFG|2017|                                           2096.093|\n",
      "|Afghanistan| AFG|2018|                                           2060.699|\n",
      "|Afghanistan| AFG|2019|                                          2079.9219|\n",
      "|Afghanistan| AFG|2020|                                           1968.341|\n",
      "|Afghanistan| AFG|2021|                                          1516.3057|\n",
      "+-----------+----+----+---------------------------------------------------+\n",
      "only showing top 20 rows\n",
      "\n"
     ]
    },
    {
     "data": {
      "text/plain": [
       "['Entity',\n",
       " 'Code',\n",
       " 'Year',\n",
       " 'GDP per capita, PPP (constant 2017 international $)']"
      ]
     },
     "execution_count": 6,
     "metadata": {},
     "output_type": "execute_result"
    }
   ],
   "source": [
    "gdp_df.show()\n",
    "gdp_df.columns"
   ]
  },
  {
   "cell_type": "code",
   "execution_count": 8,
   "id": "e47cd941",
   "metadata": {},
   "outputs": [
    {
     "name": "stdout",
     "output_type": "stream",
     "text": [
      "root\n",
      " |-- Type: string (nullable = true)\n",
      " |-- Region: string (nullable = true)\n",
      " |-- Residence Type: string (nullable = true)\n",
      " |-- Service Type: string (nullable = true)\n",
      " |-- Year: string (nullable = true)\n",
      " |-- Coverage: string (nullable = true)\n",
      " |-- Population: string (nullable = true)\n",
      " |-- Facility type: string (nullable = true)\n",
      "\n"
     ]
    }
   ],
   "source": [
    "wash_df.printSchema()"
   ]
  },
  {
   "cell_type": "code",
   "execution_count": 9,
   "id": "4d05eaf8",
   "metadata": {},
   "outputs": [
    {
     "name": "stdout",
     "output_type": "stream",
     "text": [
      "root\n",
      " |-- Entity: string (nullable = true)\n",
      " |-- Code: string (nullable = true)\n",
      " |-- Year: string (nullable = true)\n",
      " |-- Share of total deaths that are from all causes attributed to unsafe water source, in both sexes aged age-standardized: string (nullable = true)\n",
      "\n"
     ]
    }
   ],
   "source": [
    "death_df.printSchema()"
   ]
  },
  {
   "cell_type": "code",
   "execution_count": 10,
   "id": "eee8a1d0",
   "metadata": {},
   "outputs": [
    {
     "name": "stdout",
     "output_type": "stream",
     "text": [
      "root\n",
      " |-- Entity: string (nullable = true)\n",
      " |-- Code: string (nullable = true)\n",
      " |-- Year: string (nullable = true)\n",
      " |-- GDP per capita, PPP (constant 2017 international $): string (nullable = true)\n",
      "\n"
     ]
    }
   ],
   "source": [
    "gdp_df.printSchema()"
   ]
  },
  {
   "cell_type": "markdown",
   "id": "96738e75",
   "metadata": {},
   "source": [
    "# Data Manipulation"
   ]
  },
  {
   "cell_type": "code",
   "execution_count": 11,
   "id": "591eeec9",
   "metadata": {},
   "outputs": [],
   "source": [
    "from pyspark.sql.types import (StructField,StringType,IntegerType,StructType)"
   ]
  },
  {
   "cell_type": "code",
   "execution_count": null,
   "id": "8f975bd4",
   "metadata": {},
   "outputs": [],
   "source": [
    "#"
   ]
  }
 ],
 "metadata": {
  "kernelspec": {
   "display_name": "Python 3 (ipykernel)",
   "language": "python",
   "name": "python3"
  },
  "language_info": {
   "codemirror_mode": {
    "name": "ipython",
    "version": 3
   },
   "file_extension": ".py",
   "mimetype": "text/x-python",
   "name": "python",
   "nbconvert_exporter": "python",
   "pygments_lexer": "ipython3",
   "version": "3.10.12"
  }
 },
 "nbformat": 4,
 "nbformat_minor": 5
}
